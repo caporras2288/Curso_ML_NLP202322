{
  "cells": [
    {
      "cell_type": "markdown",
      "metadata": {
        "id": "view-in-github",
        "colab_type": "text"
      },
      "source": [
        "<a href=\"https://colab.research.google.com/github/caporras2288/Curso_ML_NLP202322/blob/main/S2TC1_RandomForests_Boosting_Grupo10_202312.ipynb\" target=\"_parent\"><img src=\"https://colab.research.google.com/assets/colab-badge.svg\" alt=\"Open In Colab\"/></a>"
      ]
    },
    {
      "cell_type": "markdown",
      "metadata": {
        "id": "mqvz7KVb2asT"
      },
      "source": [
        "![image info](https://raw.githubusercontent.com/albahnsen/MIAD_ML_and_NLP/main/images/banner_1.png)"
      ]
    },
    {
      "cell_type": "markdown",
      "metadata": {
        "id": "lScKgpJE2asX"
      },
      "source": [
        "# Taller: Construcción e implementación de modelos Bagging, Random Forest y XGBoost\n",
        "\n",
        "En este taller podrán poner en práctica sus conocimientos sobre la construcción e implementación de modelos de Bagging, Random Forest y XGBoost. El taller está constituido por 8 puntos, en los cuales deberan seguir las intrucciones de cada numeral para su desarrollo."
      ]
    },
    {
      "cell_type": "markdown",
      "metadata": {
        "id": "ukoBurRE2asY"
      },
      "source": [
        "## Datos predicción precio de automóviles\n",
        "\n",
        "En este taller se usará el conjunto de datos de Car Listings de Kaggle donde cada observación representa el precio de un automóvil teniendo en cuenta distintas variables como año, marca, modelo, entre otras. El objetivo es predecir el precio del automóvil. Para más detalles puede visitar el siguiente enlace: [datos](https://www.kaggle.com/jpayne/852k-used-car-listings)."
      ]
    },
    {
      "cell_type": "code",
      "execution_count": null,
      "metadata": {
        "id": "hWxPoExZ2asY"
      },
      "outputs": [],
      "source": [
        "import warnings\n",
        "warnings.filterwarnings('ignore')"
      ]
    },
    {
      "cell_type": "code",
      "execution_count": null,
      "metadata": {
        "colab": {
          "base_uri": "https://localhost:8080/",
          "height": 206
        },
        "id": "3zaJS5ej2asZ",
        "outputId": "b6fdf171-a53e-4a37-f0b6-5f230b2d6656"
      },
      "outputs": [
        {
          "output_type": "execute_result",
          "data": {
            "text/plain": [
              "     Price  Year  Mileage  M_Camry  M_Camry4dr  M_CamryBase  M_CamryL  \\\n",
              "7    21995  2014     6480        0           0            0         1   \n",
              "11   13995  2014    39972        0           0            0         0   \n",
              "167  17941  2016    18989        0           0            0         0   \n",
              "225  12493  2014    51330        0           0            0         1   \n",
              "270   7994  2007   116065        0           1            0         0   \n",
              "\n",
              "     M_CamryLE  M_CamrySE  M_CamryXLE  \n",
              "7            0          0           0  \n",
              "11           1          0           0  \n",
              "167          0          1           0  \n",
              "225          0          0           0  \n",
              "270          0          0           0  "
            ],
            "text/html": [
              "\n",
              "  <div id=\"df-244be5ac-73e1-4499-999a-3d142f964d67\">\n",
              "    <div class=\"colab-df-container\">\n",
              "      <div>\n",
              "<style scoped>\n",
              "    .dataframe tbody tr th:only-of-type {\n",
              "        vertical-align: middle;\n",
              "    }\n",
              "\n",
              "    .dataframe tbody tr th {\n",
              "        vertical-align: top;\n",
              "    }\n",
              "\n",
              "    .dataframe thead th {\n",
              "        text-align: right;\n",
              "    }\n",
              "</style>\n",
              "<table border=\"1\" class=\"dataframe\">\n",
              "  <thead>\n",
              "    <tr style=\"text-align: right;\">\n",
              "      <th></th>\n",
              "      <th>Price</th>\n",
              "      <th>Year</th>\n",
              "      <th>Mileage</th>\n",
              "      <th>M_Camry</th>\n",
              "      <th>M_Camry4dr</th>\n",
              "      <th>M_CamryBase</th>\n",
              "      <th>M_CamryL</th>\n",
              "      <th>M_CamryLE</th>\n",
              "      <th>M_CamrySE</th>\n",
              "      <th>M_CamryXLE</th>\n",
              "    </tr>\n",
              "  </thead>\n",
              "  <tbody>\n",
              "    <tr>\n",
              "      <th>7</th>\n",
              "      <td>21995</td>\n",
              "      <td>2014</td>\n",
              "      <td>6480</td>\n",
              "      <td>0</td>\n",
              "      <td>0</td>\n",
              "      <td>0</td>\n",
              "      <td>1</td>\n",
              "      <td>0</td>\n",
              "      <td>0</td>\n",
              "      <td>0</td>\n",
              "    </tr>\n",
              "    <tr>\n",
              "      <th>11</th>\n",
              "      <td>13995</td>\n",
              "      <td>2014</td>\n",
              "      <td>39972</td>\n",
              "      <td>0</td>\n",
              "      <td>0</td>\n",
              "      <td>0</td>\n",
              "      <td>0</td>\n",
              "      <td>1</td>\n",
              "      <td>0</td>\n",
              "      <td>0</td>\n",
              "    </tr>\n",
              "    <tr>\n",
              "      <th>167</th>\n",
              "      <td>17941</td>\n",
              "      <td>2016</td>\n",
              "      <td>18989</td>\n",
              "      <td>0</td>\n",
              "      <td>0</td>\n",
              "      <td>0</td>\n",
              "      <td>0</td>\n",
              "      <td>0</td>\n",
              "      <td>1</td>\n",
              "      <td>0</td>\n",
              "    </tr>\n",
              "    <tr>\n",
              "      <th>225</th>\n",
              "      <td>12493</td>\n",
              "      <td>2014</td>\n",
              "      <td>51330</td>\n",
              "      <td>0</td>\n",
              "      <td>0</td>\n",
              "      <td>0</td>\n",
              "      <td>1</td>\n",
              "      <td>0</td>\n",
              "      <td>0</td>\n",
              "      <td>0</td>\n",
              "    </tr>\n",
              "    <tr>\n",
              "      <th>270</th>\n",
              "      <td>7994</td>\n",
              "      <td>2007</td>\n",
              "      <td>116065</td>\n",
              "      <td>0</td>\n",
              "      <td>1</td>\n",
              "      <td>0</td>\n",
              "      <td>0</td>\n",
              "      <td>0</td>\n",
              "      <td>0</td>\n",
              "      <td>0</td>\n",
              "    </tr>\n",
              "  </tbody>\n",
              "</table>\n",
              "</div>\n",
              "      <button class=\"colab-df-convert\" onclick=\"convertToInteractive('df-244be5ac-73e1-4499-999a-3d142f964d67')\"\n",
              "              title=\"Convert this dataframe to an interactive table.\"\n",
              "              style=\"display:none;\">\n",
              "        \n",
              "  <svg xmlns=\"http://www.w3.org/2000/svg\" height=\"24px\"viewBox=\"0 0 24 24\"\n",
              "       width=\"24px\">\n",
              "    <path d=\"M0 0h24v24H0V0z\" fill=\"none\"/>\n",
              "    <path d=\"M18.56 5.44l.94 2.06.94-2.06 2.06-.94-2.06-.94-.94-2.06-.94 2.06-2.06.94zm-11 1L8.5 8.5l.94-2.06 2.06-.94-2.06-.94L8.5 2.5l-.94 2.06-2.06.94zm10 10l.94 2.06.94-2.06 2.06-.94-2.06-.94-.94-2.06-.94 2.06-2.06.94z\"/><path d=\"M17.41 7.96l-1.37-1.37c-.4-.4-.92-.59-1.43-.59-.52 0-1.04.2-1.43.59L10.3 9.45l-7.72 7.72c-.78.78-.78 2.05 0 2.83L4 21.41c.39.39.9.59 1.41.59.51 0 1.02-.2 1.41-.59l7.78-7.78 2.81-2.81c.8-.78.8-2.07 0-2.86zM5.41 20L4 18.59l7.72-7.72 1.47 1.35L5.41 20z\"/>\n",
              "  </svg>\n",
              "      </button>\n",
              "      \n",
              "  <style>\n",
              "    .colab-df-container {\n",
              "      display:flex;\n",
              "      flex-wrap:wrap;\n",
              "      gap: 12px;\n",
              "    }\n",
              "\n",
              "    .colab-df-convert {\n",
              "      background-color: #E8F0FE;\n",
              "      border: none;\n",
              "      border-radius: 50%;\n",
              "      cursor: pointer;\n",
              "      display: none;\n",
              "      fill: #1967D2;\n",
              "      height: 32px;\n",
              "      padding: 0 0 0 0;\n",
              "      width: 32px;\n",
              "    }\n",
              "\n",
              "    .colab-df-convert:hover {\n",
              "      background-color: #E2EBFA;\n",
              "      box-shadow: 0px 1px 2px rgba(60, 64, 67, 0.3), 0px 1px 3px 1px rgba(60, 64, 67, 0.15);\n",
              "      fill: #174EA6;\n",
              "    }\n",
              "\n",
              "    [theme=dark] .colab-df-convert {\n",
              "      background-color: #3B4455;\n",
              "      fill: #D2E3FC;\n",
              "    }\n",
              "\n",
              "    [theme=dark] .colab-df-convert:hover {\n",
              "      background-color: #434B5C;\n",
              "      box-shadow: 0px 1px 3px 1px rgba(0, 0, 0, 0.15);\n",
              "      filter: drop-shadow(0px 1px 2px rgba(0, 0, 0, 0.3));\n",
              "      fill: #FFFFFF;\n",
              "    }\n",
              "  </style>\n",
              "\n",
              "      <script>\n",
              "        const buttonEl =\n",
              "          document.querySelector('#df-244be5ac-73e1-4499-999a-3d142f964d67 button.colab-df-convert');\n",
              "        buttonEl.style.display =\n",
              "          google.colab.kernel.accessAllowed ? 'block' : 'none';\n",
              "\n",
              "        async function convertToInteractive(key) {\n",
              "          const element = document.querySelector('#df-244be5ac-73e1-4499-999a-3d142f964d67');\n",
              "          const dataTable =\n",
              "            await google.colab.kernel.invokeFunction('convertToInteractive',\n",
              "                                                     [key], {});\n",
              "          if (!dataTable) return;\n",
              "\n",
              "          const docLinkHtml = 'Like what you see? Visit the ' +\n",
              "            '<a target=\"_blank\" href=https://colab.research.google.com/notebooks/data_table.ipynb>data table notebook</a>'\n",
              "            + ' to learn more about interactive tables.';\n",
              "          element.innerHTML = '';\n",
              "          dataTable['output_type'] = 'display_data';\n",
              "          await google.colab.output.renderOutput(dataTable, element);\n",
              "          const docLink = document.createElement('div');\n",
              "          docLink.innerHTML = docLinkHtml;\n",
              "          element.appendChild(docLink);\n",
              "        }\n",
              "      </script>\n",
              "    </div>\n",
              "  </div>\n",
              "  "
            ]
          },
          "metadata": {},
          "execution_count": 2
        }
      ],
      "source": [
        "# Importación de librerías\n",
        "%matplotlib inline\n",
        "import pandas as pd\n",
        "import numpy as np\n",
        "from sklearn.metrics import mean_squared_error, mean_absolute_error\n",
        "from sklearn.ensemble import RandomForestRegressor\n",
        "from sklearn.model_selection import cross_val_score\n",
        "\n",
        "# Lectura de la información de archivo .csv\n",
        "data = pd.read_csv('https://raw.githubusercontent.com/albahnsen/MIAD_ML_and_NLP/main/datasets/dataTrain_carListings.zip')\n",
        "\n",
        "# Preprocesamiento de datos para el taller\n",
        "data = data.loc[data['Model'].str.contains('Camry')].drop(['Make', 'State'], axis=1)\n",
        "data = data.join(pd.get_dummies(data['Model'], prefix='M'))\n",
        "data = data.drop(['Model'], axis=1)\n",
        "\n",
        "# Visualización dataset\n",
        "data.head()"
      ]
    },
    {
      "cell_type": "code",
      "execution_count": null,
      "metadata": {
        "id": "H2g6GZRl2asa"
      },
      "outputs": [],
      "source": [
        "# Separación de variables predictoras (X) y variable de interés (y)\n",
        "y = data['Price']\n",
        "X = data.drop(['Price'], axis=1)"
      ]
    },
    {
      "cell_type": "code",
      "execution_count": null,
      "metadata": {
        "id": "nSVDdxWb2asb"
      },
      "outputs": [],
      "source": [
        "# Separación de datos en set de entrenamiento y test\n",
        "from sklearn.model_selection import train_test_split\n",
        "X_train, X_test, y_train, y_test = train_test_split(X, y, test_size=0.33, random_state=42)"
      ]
    },
    {
      "cell_type": "markdown",
      "metadata": {
        "id": "j8EKBExT2asb"
      },
      "source": [
        "### Punto 1 - Árbol de decisión manual\n",
        "\n",
        "En la celda 1 creen un árbol de decisión **manualmente**  que considere los set de entrenamiento y test definidos anteriormente y presenten el RMSE y MAE del modelo en el set de test."
      ]
    },
    {
      "cell_type": "code",
      "execution_count": null,
      "metadata": {
        "id": "b5fXachA2asc"
      },
      "outputs": [],
      "source": [
        "# Celda 1\n",
        "# Definición de la función que calcula el MSE\n",
        "def mse(y):\n",
        "    if y.shape[0] == 0:\n",
        "        return 0\n",
        "    else:\n",
        "        return np.mean((y - y.mean())**2)\n",
        "\n",
        "def mse_reduction(X_col, y, split):\n",
        "    \n",
        "    filter_l = X_col < split\n",
        "    y_l = y.loc[filter_l]\n",
        "    y_r = y.loc[~filter_l]\n",
        "    \n",
        "    n_l = y_l.shape[0]\n",
        "    n_r = y_r.shape[0]\n",
        "    \n",
        "    mse_y = mse(y)\n",
        "    mse_l = mse(y_l)\n",
        "    mse_r = mse(y_r)\n",
        "    \n",
        "    mse_reduction_ = mse_y - (n_l / (n_l + n_r) * mse_l + n_r / (n_l + n_r) * mse_r)\n",
        "      \n",
        "    return mse_reduction_\n",
        "\n",
        "# Definición de la función best_split para calcular cuál es la mejor variable y punto de corte para hacer la bifurcación del árbol\n",
        "def best_split(X, y, num_pct=10):\n",
        "    \n",
        "    features = range(X.shape[1])\n",
        "    \n",
        "    best_split = [0, 0, 0]  # j, split, reduction\n",
        "    \n",
        "    # Para todas las variables \n",
        "    for j in features:\n",
        "        \n",
        "        splits = np.percentile(X.iloc[:, j], np.arange(0, 100, 100.0 / (num_pct+1)).tolist())\n",
        "        splits = np.unique(splits)[1:]\n",
        "        \n",
        "        # Para cada partición\n",
        "        for split in splits:\n",
        "            reduction = mse_reduction(X.iloc[:, j], y, split)\n",
        "                        \n",
        "            if reduction > best_split[2]:\n",
        "                best_split = [j, split, reduction]\n",
        "    \n",
        "    return best_split\n",
        "    \n",
        "# Definición de la función tree_grow para hacer un crecimiento recursivo del árbol\n",
        "def tree_grow(X, y, level=0, min_gain=0.001, max_depth=6, num_pct=10):\n",
        "    \n",
        "    # Si solo es una observación\n",
        "    if X.shape[0] == 1:\n",
        "        tree = dict(y_pred=y.iloc[:1].values[0], level=level, split=-1, n_samples=1, gain=0)\n",
        "        return tree\n",
        "    \n",
        "    # Calcular la mejor división\n",
        "    j, split, gain = best_split(X, y, num_pct)\n",
        "    \n",
        "    # Guardar el árbol y estimar la predicción\n",
        "    y_pred = y.mean()\n",
        "    \n",
        "    tree = dict(y_pred=y_pred, level=level, split=-1, n_samples=X.shape[0], gain=gain)\n",
        "    # Revisar el criterio de parada \n",
        "    if gain < min_gain:\n",
        "        return tree\n",
        "    if max_depth is not None:\n",
        "        if level >= max_depth:\n",
        "            return tree   \n",
        "    \n",
        "    # Continuar creando la partición\n",
        "    filter_l = X.iloc[:, j] < split\n",
        "    X_l, y_l = X.loc[filter_l], y.loc[filter_l]\n",
        "    X_r, y_r = X.loc[~filter_l], y.loc[~filter_l]\n",
        "    tree['split'] = [j, split]\n",
        "\n",
        "    # Siguiente iteración para cada partición\n",
        "    \n",
        "    tree['sl'] = tree_grow(X_l, y_l, level + 1, min_gain=min_gain, max_depth=max_depth, num_pct=num_pct)\n",
        "    tree['sr'] = tree_grow(X_r, y_r, level + 1, min_gain=min_gain, max_depth=max_depth, num_pct=num_pct)\n",
        "    \n",
        "    return tree"
      ]
    },
    {
      "cell_type": "code",
      "source": [
        "tree = tree_grow(X_train, y_train, level=0, min_gain=0.001, max_depth=4, num_pct=10)"
      ],
      "metadata": {
        "id": "2C2zmvUGKKOB"
      },
      "execution_count": null,
      "outputs": []
    },
    {
      "cell_type": "code",
      "source": [
        "def tree_predict(X, tree):\n",
        "    \n",
        "    predicted = np.zeros(X.shape[0])\n",
        "\n",
        "    # Revisar si es el nodo final\n",
        "    if tree['split'] == -1:\n",
        "        predicted = predicted + tree['y_pred']\n",
        "            \n",
        "    else:\n",
        "        \n",
        "        j, split = tree['split']\n",
        "        filter_l = (X.iloc[:, j] < split)\n",
        "        X_l = X.loc[filter_l]\n",
        "        X_r = X.loc[~filter_l]\n",
        "\n",
        "        if X_l.shape[0] == 0:  # Si el nodo izquierdo está vacio solo continua con el derecho \n",
        "            predicted[~filter_l] = tree_predict(X_r, tree['sr'])\n",
        "        elif X_r.shape[0] == 0:  #  Si el nodo derecho está vacio solo continua con el izquierdo\n",
        "            predicted[filter_l] = tree_predict(X_l, tree['sl'])\n",
        "        else:\n",
        "            predicted[filter_l] = tree_predict(X_l, tree['sl'])\n",
        "            predicted[~filter_l] = tree_predict(X_r, tree['sr'])\n",
        "\n",
        "    return predicted"
      ],
      "metadata": {
        "id": "KBKfalr4Knrh"
      },
      "execution_count": null,
      "outputs": []
    },
    {
      "cell_type": "code",
      "source": [
        "y_pred = tree_predict(X_test, tree)"
      ],
      "metadata": {
        "id": "TYXJNK5OKtlr"
      },
      "execution_count": null,
      "outputs": []
    },
    {
      "cell_type": "code",
      "source": [
        "rmsetree = np.sqrt(mean_squared_error(y_test, y_pred))\n",
        "maetree = mean_absolute_error(y_test, y_pred)\n",
        "print(\"RMSE: \", rmsetree)\n",
        "print(\"MAE: \", maetree)"
      ],
      "metadata": {
        "colab": {
          "base_uri": "https://localhost:8080/"
        },
        "id": "LGyqWpYKKyyp",
        "outputId": "44a35556-b6ba-4115-e916-774bda5f48e9"
      },
      "execution_count": null,
      "outputs": [
        {
          "output_type": "stream",
          "name": "stdout",
          "text": [
            "RMSE:  1782.6888801629282\n",
            "MAE:  1345.3253795686473\n"
          ]
        }
      ]
    },
    {
      "cell_type": "markdown",
      "metadata": {
        "id": "NalNef1Q2asc"
      },
      "source": [
        "### Punto 2 - Bagging manual\n",
        "\n",
        "En la celda 2 creen un modelo bagging **manualmente** con 10 árboles de clasificación y comenten sobre el desempeño del modelo."
      ]
    },
    {
      "cell_type": "code",
      "execution_count": null,
      "metadata": {
        "id": "FBMu6ONN2asd",
        "colab": {
          "base_uri": "https://localhost:8080/"
        },
        "outputId": "2e481ce7-8226-4ea4-904c-55ebaf183629"
      },
      "outputs": [
        {
          "output_type": "stream",
          "name": "stdout",
          "text": [
            "10495\n",
            "7031\n",
            "3464\n",
            "10495\n"
          ]
        }
      ],
      "source": [
        "# Celda 2\n",
        "# Se divide el dataframe data manualmente en test y train con el 33% para test.\n",
        "print(len(data))\n",
        "print(len(X_train))\n",
        "print(len(X_test))\n",
        "print(len(X_train)+len(X_test))"
      ]
    },
    {
      "cell_type": "code",
      "source": [
        "# Se divide el dataframe data manualmente en test y train con el 33% para test.\n",
        "train = data.iloc[:7031, :]\n",
        "test = data.iloc[7031:, :]\n",
        "print(len(train))\n",
        "print(len(test))\n",
        "print(len(train)+len(test))\n",
        "print(len(data))"
      ],
      "metadata": {
        "colab": {
          "base_uri": "https://localhost:8080/"
        },
        "id": "5fitTgeSyHN8",
        "outputId": "96101aa0-ed20-4bd0-ac28-6fc7f2b8a207"
      },
      "execution_count": null,
      "outputs": [
        {
          "output_type": "stream",
          "name": "stdout",
          "text": [
            "7031\n",
            "3464\n",
            "10495\n",
            "10495\n"
          ]
        }
      ]
    },
    {
      "cell_type": "code",
      "source": [
        "# Se crea un arreglo de el 90% del total de los datos\n",
        "import numpy as np\n",
        "Bootstrap = round(len(data) * 0.9)\n",
        "Bootstrap"
      ],
      "metadata": {
        "colab": {
          "base_uri": "https://localhost:8080/"
        },
        "id": "BbAUvOR5yK66",
        "outputId": "1de53f51-60b3-42e1-f376-374730eb499e"
      },
      "execution_count": null,
      "outputs": [
        {
          "output_type": "execute_result",
          "data": {
            "text/plain": [
              "9446"
            ]
          },
          "metadata": {},
          "execution_count": 8
        }
      ]
    },
    {
      "cell_type": "code",
      "source": [
        "# Se crea un arreglo de 1 a 9446\n",
        "np.random.seed(1)\n",
        "\n",
        "# Impresión de arreglo y muestreo aleatorio\n",
        "nums = np.arange(1, Bootstrap+1)\n",
        "print('Arreglo:', nums)\n",
        "print('Muestreo aleatorio: ', np.random.choice(a=nums, size=9446, replace=True))"
      ],
      "metadata": {
        "colab": {
          "base_uri": "https://localhost:8080/"
        },
        "id": "u7CNHYP_yOZr",
        "outputId": "df531b9c-0421-48f2-8895-b090d228946e"
      },
      "execution_count": null,
      "outputs": [
        {
          "output_type": "stream",
          "name": "stdout",
          "text": [
            "Arreglo: [   1    2    3 ... 9444 9445 9446]\n",
            "Muestreo aleatorio:  [ 236 5193  906 ... 5538 7220  653]\n"
          ]
        }
      ]
    },
    {
      "cell_type": "code",
      "source": [
        "# Creación de 10 muestras de bootstrap \n",
        "np.random.seed(123)\n",
        "\n",
        "n_samples = train.shape[0]\n",
        "n_B = 10\n",
        "\n",
        "samples = [np.random.choice(a=n_samples, size=n_samples, replace=True) for _ in range(1, n_B +1 )]\n",
        "samples"
      ],
      "metadata": {
        "colab": {
          "base_uri": "https://localhost:8080/"
        },
        "id": "39lFrvZTyPU7",
        "outputId": "4e8fa10e-0990-473f-b2c8-e8098a98e42b"
      },
      "execution_count": null,
      "outputs": [
        {
          "output_type": "execute_result",
          "data": {
            "text/plain": [
              "[array([3582, 3454, 1346, ...,  826,  801, 5657]),\n",
              " array([6962, 3408, 2553, ..., 6611,  877, 6412]),\n",
              " array([1917, 3131,  384, ..., 2876, 6449, 6557]),\n",
              " array([3849, 4565, 6820, ..., 6835, 4643,  639]),\n",
              " array([2468, 3608, 1367, ..., 3108, 2961, 4357]),\n",
              " array([3142, 1537, 5966, ..., 3224, 6922, 3396]),\n",
              " array([6588, 3753, 1786, ..., 2131, 4627, 5672]),\n",
              " array([1289, 3776,  981, ..., 1891, 6034, 6165]),\n",
              " array([6079, 3819, 6976, ..., 6478, 2225, 5072]),\n",
              " array([3952, 3276,  896, ..., 4589, 1964,  893])]"
            ]
          },
          "metadata": {},
          "execution_count": 10
        }
      ]
    },
    {
      "cell_type": "code",
      "source": [
        "#Muestra boostrap 1\n",
        "samples[0]"
      ],
      "metadata": {
        "colab": {
          "base_uri": "https://localhost:8080/"
        },
        "id": "PZcP2WG4yPtM",
        "outputId": "c7c99dd1-93b7-41cb-9a02-cd0d5e27a903"
      },
      "execution_count": null,
      "outputs": [
        {
          "output_type": "execute_result",
          "data": {
            "text/plain": [
              "array([3582, 3454, 1346, ...,  826,  801, 5657])"
            ]
          },
          "metadata": {},
          "execution_count": 11
        }
      ]
    },
    {
      "cell_type": "code",
      "source": [
        "# Visualización muestra boostrap #1 para entremiento\n",
        "train.iloc[samples[0], :]"
      ],
      "metadata": {
        "colab": {
          "base_uri": "https://localhost:8080/",
          "height": 424
        },
        "id": "x5VR_r3JyQFM",
        "outputId": "581b31be-cc00-46bf-ecb8-5a6ef8725c7b"
      },
      "execution_count": null,
      "outputs": [
        {
          "output_type": "execute_result",
          "data": {
            "text/plain": [
              "        Price  Year  Mileage  M_Camry  M_Camry4dr  M_CamryBase  M_CamryL  \\\n",
              "137130   8995  2010    88909        0           0            0         0   \n",
              "132538   5998  2007   136022        0           0            0         0   \n",
              "51669   16500  2015    27217        0           0            0         0   \n",
              "154900  17508  2017    34279        0           0            0         0   \n",
              "199443  13695  2012    77117        0           1            0         0   \n",
              "...       ...   ...      ...      ...         ...          ...       ...   \n",
              "10241   10790  2011    90375        0           0            0         0   \n",
              "4214     8995  2009    62991        0           1            0         0   \n",
              "32299   11988  2011    76862        0           0            0         0   \n",
              "31240   19248  2017    32465        0           0            0         0   \n",
              "215081  13698  2014    46458        0           0            0         1   \n",
              "\n",
              "        M_CamryLE  M_CamrySE  M_CamryXLE  \n",
              "137130          1          0           0  \n",
              "132538          1          0           0  \n",
              "51669           0          1           0  \n",
              "154900          0          1           0  \n",
              "199443          0          0           0  \n",
              "...           ...        ...         ...  \n",
              "10241           1          0           0  \n",
              "4214            0          0           0  \n",
              "32299           1          0           0  \n",
              "31240           0          1           0  \n",
              "215081          0          0           0  \n",
              "\n",
              "[7031 rows x 10 columns]"
            ],
            "text/html": [
              "\n",
              "  <div id=\"df-f55f2ee6-ac2c-4b2e-8f08-1b076014563d\">\n",
              "    <div class=\"colab-df-container\">\n",
              "      <div>\n",
              "<style scoped>\n",
              "    .dataframe tbody tr th:only-of-type {\n",
              "        vertical-align: middle;\n",
              "    }\n",
              "\n",
              "    .dataframe tbody tr th {\n",
              "        vertical-align: top;\n",
              "    }\n",
              "\n",
              "    .dataframe thead th {\n",
              "        text-align: right;\n",
              "    }\n",
              "</style>\n",
              "<table border=\"1\" class=\"dataframe\">\n",
              "  <thead>\n",
              "    <tr style=\"text-align: right;\">\n",
              "      <th></th>\n",
              "      <th>Price</th>\n",
              "      <th>Year</th>\n",
              "      <th>Mileage</th>\n",
              "      <th>M_Camry</th>\n",
              "      <th>M_Camry4dr</th>\n",
              "      <th>M_CamryBase</th>\n",
              "      <th>M_CamryL</th>\n",
              "      <th>M_CamryLE</th>\n",
              "      <th>M_CamrySE</th>\n",
              "      <th>M_CamryXLE</th>\n",
              "    </tr>\n",
              "  </thead>\n",
              "  <tbody>\n",
              "    <tr>\n",
              "      <th>137130</th>\n",
              "      <td>8995</td>\n",
              "      <td>2010</td>\n",
              "      <td>88909</td>\n",
              "      <td>0</td>\n",
              "      <td>0</td>\n",
              "      <td>0</td>\n",
              "      <td>0</td>\n",
              "      <td>1</td>\n",
              "      <td>0</td>\n",
              "      <td>0</td>\n",
              "    </tr>\n",
              "    <tr>\n",
              "      <th>132538</th>\n",
              "      <td>5998</td>\n",
              "      <td>2007</td>\n",
              "      <td>136022</td>\n",
              "      <td>0</td>\n",
              "      <td>0</td>\n",
              "      <td>0</td>\n",
              "      <td>0</td>\n",
              "      <td>1</td>\n",
              "      <td>0</td>\n",
              "      <td>0</td>\n",
              "    </tr>\n",
              "    <tr>\n",
              "      <th>51669</th>\n",
              "      <td>16500</td>\n",
              "      <td>2015</td>\n",
              "      <td>27217</td>\n",
              "      <td>0</td>\n",
              "      <td>0</td>\n",
              "      <td>0</td>\n",
              "      <td>0</td>\n",
              "      <td>0</td>\n",
              "      <td>1</td>\n",
              "      <td>0</td>\n",
              "    </tr>\n",
              "    <tr>\n",
              "      <th>154900</th>\n",
              "      <td>17508</td>\n",
              "      <td>2017</td>\n",
              "      <td>34279</td>\n",
              "      <td>0</td>\n",
              "      <td>0</td>\n",
              "      <td>0</td>\n",
              "      <td>0</td>\n",
              "      <td>0</td>\n",
              "      <td>1</td>\n",
              "      <td>0</td>\n",
              "    </tr>\n",
              "    <tr>\n",
              "      <th>199443</th>\n",
              "      <td>13695</td>\n",
              "      <td>2012</td>\n",
              "      <td>77117</td>\n",
              "      <td>0</td>\n",
              "      <td>1</td>\n",
              "      <td>0</td>\n",
              "      <td>0</td>\n",
              "      <td>0</td>\n",
              "      <td>0</td>\n",
              "      <td>0</td>\n",
              "    </tr>\n",
              "    <tr>\n",
              "      <th>...</th>\n",
              "      <td>...</td>\n",
              "      <td>...</td>\n",
              "      <td>...</td>\n",
              "      <td>...</td>\n",
              "      <td>...</td>\n",
              "      <td>...</td>\n",
              "      <td>...</td>\n",
              "      <td>...</td>\n",
              "      <td>...</td>\n",
              "      <td>...</td>\n",
              "    </tr>\n",
              "    <tr>\n",
              "      <th>10241</th>\n",
              "      <td>10790</td>\n",
              "      <td>2011</td>\n",
              "      <td>90375</td>\n",
              "      <td>0</td>\n",
              "      <td>0</td>\n",
              "      <td>0</td>\n",
              "      <td>0</td>\n",
              "      <td>1</td>\n",
              "      <td>0</td>\n",
              "      <td>0</td>\n",
              "    </tr>\n",
              "    <tr>\n",
              "      <th>4214</th>\n",
              "      <td>8995</td>\n",
              "      <td>2009</td>\n",
              "      <td>62991</td>\n",
              "      <td>0</td>\n",
              "      <td>1</td>\n",
              "      <td>0</td>\n",
              "      <td>0</td>\n",
              "      <td>0</td>\n",
              "      <td>0</td>\n",
              "      <td>0</td>\n",
              "    </tr>\n",
              "    <tr>\n",
              "      <th>32299</th>\n",
              "      <td>11988</td>\n",
              "      <td>2011</td>\n",
              "      <td>76862</td>\n",
              "      <td>0</td>\n",
              "      <td>0</td>\n",
              "      <td>0</td>\n",
              "      <td>0</td>\n",
              "      <td>1</td>\n",
              "      <td>0</td>\n",
              "      <td>0</td>\n",
              "    </tr>\n",
              "    <tr>\n",
              "      <th>31240</th>\n",
              "      <td>19248</td>\n",
              "      <td>2017</td>\n",
              "      <td>32465</td>\n",
              "      <td>0</td>\n",
              "      <td>0</td>\n",
              "      <td>0</td>\n",
              "      <td>0</td>\n",
              "      <td>0</td>\n",
              "      <td>1</td>\n",
              "      <td>0</td>\n",
              "    </tr>\n",
              "    <tr>\n",
              "      <th>215081</th>\n",
              "      <td>13698</td>\n",
              "      <td>2014</td>\n",
              "      <td>46458</td>\n",
              "      <td>0</td>\n",
              "      <td>0</td>\n",
              "      <td>0</td>\n",
              "      <td>1</td>\n",
              "      <td>0</td>\n",
              "      <td>0</td>\n",
              "      <td>0</td>\n",
              "    </tr>\n",
              "  </tbody>\n",
              "</table>\n",
              "<p>7031 rows × 10 columns</p>\n",
              "</div>\n",
              "      <button class=\"colab-df-convert\" onclick=\"convertToInteractive('df-f55f2ee6-ac2c-4b2e-8f08-1b076014563d')\"\n",
              "              title=\"Convert this dataframe to an interactive table.\"\n",
              "              style=\"display:none;\">\n",
              "        \n",
              "  <svg xmlns=\"http://www.w3.org/2000/svg\" height=\"24px\"viewBox=\"0 0 24 24\"\n",
              "       width=\"24px\">\n",
              "    <path d=\"M0 0h24v24H0V0z\" fill=\"none\"/>\n",
              "    <path d=\"M18.56 5.44l.94 2.06.94-2.06 2.06-.94-2.06-.94-.94-2.06-.94 2.06-2.06.94zm-11 1L8.5 8.5l.94-2.06 2.06-.94-2.06-.94L8.5 2.5l-.94 2.06-2.06.94zm10 10l.94 2.06.94-2.06 2.06-.94-2.06-.94-.94-2.06-.94 2.06-2.06.94z\"/><path d=\"M17.41 7.96l-1.37-1.37c-.4-.4-.92-.59-1.43-.59-.52 0-1.04.2-1.43.59L10.3 9.45l-7.72 7.72c-.78.78-.78 2.05 0 2.83L4 21.41c.39.39.9.59 1.41.59.51 0 1.02-.2 1.41-.59l7.78-7.78 2.81-2.81c.8-.78.8-2.07 0-2.86zM5.41 20L4 18.59l7.72-7.72 1.47 1.35L5.41 20z\"/>\n",
              "  </svg>\n",
              "      </button>\n",
              "      \n",
              "  <style>\n",
              "    .colab-df-container {\n",
              "      display:flex;\n",
              "      flex-wrap:wrap;\n",
              "      gap: 12px;\n",
              "    }\n",
              "\n",
              "    .colab-df-convert {\n",
              "      background-color: #E8F0FE;\n",
              "      border: none;\n",
              "      border-radius: 50%;\n",
              "      cursor: pointer;\n",
              "      display: none;\n",
              "      fill: #1967D2;\n",
              "      height: 32px;\n",
              "      padding: 0 0 0 0;\n",
              "      width: 32px;\n",
              "    }\n",
              "\n",
              "    .colab-df-convert:hover {\n",
              "      background-color: #E2EBFA;\n",
              "      box-shadow: 0px 1px 2px rgba(60, 64, 67, 0.3), 0px 1px 3px 1px rgba(60, 64, 67, 0.15);\n",
              "      fill: #174EA6;\n",
              "    }\n",
              "\n",
              "    [theme=dark] .colab-df-convert {\n",
              "      background-color: #3B4455;\n",
              "      fill: #D2E3FC;\n",
              "    }\n",
              "\n",
              "    [theme=dark] .colab-df-convert:hover {\n",
              "      background-color: #434B5C;\n",
              "      box-shadow: 0px 1px 3px 1px rgba(0, 0, 0, 0.15);\n",
              "      filter: drop-shadow(0px 1px 2px rgba(0, 0, 0, 0.3));\n",
              "      fill: #FFFFFF;\n",
              "    }\n",
              "  </style>\n",
              "\n",
              "      <script>\n",
              "        const buttonEl =\n",
              "          document.querySelector('#df-f55f2ee6-ac2c-4b2e-8f08-1b076014563d button.colab-df-convert');\n",
              "        buttonEl.style.display =\n",
              "          google.colab.kernel.accessAllowed ? 'block' : 'none';\n",
              "\n",
              "        async function convertToInteractive(key) {\n",
              "          const element = document.querySelector('#df-f55f2ee6-ac2c-4b2e-8f08-1b076014563d');\n",
              "          const dataTable =\n",
              "            await google.colab.kernel.invokeFunction('convertToInteractive',\n",
              "                                                     [key], {});\n",
              "          if (!dataTable) return;\n",
              "\n",
              "          const docLinkHtml = 'Like what you see? Visit the ' +\n",
              "            '<a target=\"_blank\" href=https://colab.research.google.com/notebooks/data_table.ipynb>data table notebook</a>'\n",
              "            + ' to learn more about interactive tables.';\n",
              "          element.innerHTML = '';\n",
              "          dataTable['output_type'] = 'display_data';\n",
              "          await google.colab.output.renderOutput(dataTable, element);\n",
              "          const docLink = document.createElement('div');\n",
              "          docLink.innerHTML = docLinkHtml;\n",
              "          element.appendChild(docLink);\n",
              "        }\n",
              "      </script>\n",
              "    </div>\n",
              "  </div>\n",
              "  "
            ]
          },
          "metadata": {},
          "execution_count": 12
        }
      ]
    },
    {
      "cell_type": "code",
      "source": [
        "# Construcción un árbol de decisión para cada muestra boostrap con regresion\n",
        "\n",
        "from sklearn.tree import DecisionTreeRegressor\n",
        "\n",
        "# Definición del modelo usando DecisionTreeRegressor de sklearn\n",
        "treereg = DecisionTreeRegressor(max_depth=None, random_state=123)\n",
        "\n",
        "# DataFrame para guardar las predicciones de cada árbol\n",
        "y_pred = pd.DataFrame(index=test.index, columns=[list(range(n_B))])\n",
        "\n",
        "# Entrenamiento de un árbol sobre cada muestra boostrap y predicción sobre los datos de test\n",
        "for i, sample in enumerate(samples):\n",
        "    X_train_2 = train.iloc[sample, 1:]\n",
        "    y_train_2 = train.iloc[sample, 0]\n",
        "    treereg.fit(X_train_2, y_train_2)\n",
        "    y_pred.iloc[:,i] = treereg.predict(X_test)\n",
        "    \n",
        "y_pred"
      ],
      "metadata": {
        "colab": {
          "base_uri": "https://localhost:8080/",
          "height": 424
        },
        "id": "vw49K8Y9ye5L",
        "outputId": "46dcb10f-bd2e-45d8-f722-cad9c3b6b672"
      },
      "execution_count": null,
      "outputs": [
        {
          "output_type": "execute_result",
          "data": {
            "text/plain": [
              "              0        1        2        3        4        5        6  \\\n",
              "266476   9900.0   9900.0   9900.0   9900.0   9900.0  11995.0  11788.0   \n",
              "266526   5995.0   7495.0   5995.0   7495.0   5995.0   5995.0   6987.0   \n",
              "266544  15814.0  15814.0  15814.0  15814.0  16491.0  15814.0  15814.0   \n",
              "266552  17997.0  16691.0  15813.0  17997.0  17997.0  17997.0  17997.0   \n",
              "266617  18995.0  18995.0  16951.0  16951.0  16951.0  16951.0  18995.0   \n",
              "...         ...      ...      ...      ...      ...      ...      ...   \n",
              "399845  15976.0  17988.0  15976.0  17988.0  17988.0  16977.0  15976.0   \n",
              "399928  14699.0  14699.0  15700.0  16900.0  15700.0  15999.0  14995.0   \n",
              "399934  18330.0  17803.0  18330.0  23533.0  18330.0  23533.0  18330.0   \n",
              "399951  10495.0  10495.0  12989.0  12989.0  10495.0  10495.0  12989.0   \n",
              "399976  11985.0  12922.0  12922.0  11898.0  11985.0  11985.0  11000.0   \n",
              "\n",
              "              7        8        9  \n",
              "266476   9900.0   9900.0   9900.0  \n",
              "266526   6700.0   7495.0   6492.0  \n",
              "266544  15349.0  15814.0  15349.0  \n",
              "266552  21990.0  23482.0  23482.0  \n",
              "266617  15988.0  18995.0  18995.0  \n",
              "...         ...      ...      ...  \n",
              "399845  17988.0  15976.0  17988.0  \n",
              "399928  14851.0  14851.0  14851.0  \n",
              "399934  23533.0  18330.0  18330.0  \n",
              "399951  10495.0  12995.0  10495.0  \n",
              "399976  12922.0  10492.0  11995.0  \n",
              "\n",
              "[3464 rows x 10 columns]"
            ],
            "text/html": [
              "\n",
              "  <div id=\"df-ec74f6b4-6563-473f-a75b-4dc6e008eea2\">\n",
              "    <div class=\"colab-df-container\">\n",
              "      <div>\n",
              "<style scoped>\n",
              "    .dataframe tbody tr th:only-of-type {\n",
              "        vertical-align: middle;\n",
              "    }\n",
              "\n",
              "    .dataframe tbody tr th {\n",
              "        vertical-align: top;\n",
              "    }\n",
              "\n",
              "    .dataframe thead tr th {\n",
              "        text-align: left;\n",
              "    }\n",
              "</style>\n",
              "<table border=\"1\" class=\"dataframe\">\n",
              "  <thead>\n",
              "    <tr>\n",
              "      <th></th>\n",
              "      <th>0</th>\n",
              "      <th>1</th>\n",
              "      <th>2</th>\n",
              "      <th>3</th>\n",
              "      <th>4</th>\n",
              "      <th>5</th>\n",
              "      <th>6</th>\n",
              "      <th>7</th>\n",
              "      <th>8</th>\n",
              "      <th>9</th>\n",
              "    </tr>\n",
              "  </thead>\n",
              "  <tbody>\n",
              "    <tr>\n",
              "      <th>266476</th>\n",
              "      <td>9900.0</td>\n",
              "      <td>9900.0</td>\n",
              "      <td>9900.0</td>\n",
              "      <td>9900.0</td>\n",
              "      <td>9900.0</td>\n",
              "      <td>11995.0</td>\n",
              "      <td>11788.0</td>\n",
              "      <td>9900.0</td>\n",
              "      <td>9900.0</td>\n",
              "      <td>9900.0</td>\n",
              "    </tr>\n",
              "    <tr>\n",
              "      <th>266526</th>\n",
              "      <td>5995.0</td>\n",
              "      <td>7495.0</td>\n",
              "      <td>5995.0</td>\n",
              "      <td>7495.0</td>\n",
              "      <td>5995.0</td>\n",
              "      <td>5995.0</td>\n",
              "      <td>6987.0</td>\n",
              "      <td>6700.0</td>\n",
              "      <td>7495.0</td>\n",
              "      <td>6492.0</td>\n",
              "    </tr>\n",
              "    <tr>\n",
              "      <th>266544</th>\n",
              "      <td>15814.0</td>\n",
              "      <td>15814.0</td>\n",
              "      <td>15814.0</td>\n",
              "      <td>15814.0</td>\n",
              "      <td>16491.0</td>\n",
              "      <td>15814.0</td>\n",
              "      <td>15814.0</td>\n",
              "      <td>15349.0</td>\n",
              "      <td>15814.0</td>\n",
              "      <td>15349.0</td>\n",
              "    </tr>\n",
              "    <tr>\n",
              "      <th>266552</th>\n",
              "      <td>17997.0</td>\n",
              "      <td>16691.0</td>\n",
              "      <td>15813.0</td>\n",
              "      <td>17997.0</td>\n",
              "      <td>17997.0</td>\n",
              "      <td>17997.0</td>\n",
              "      <td>17997.0</td>\n",
              "      <td>21990.0</td>\n",
              "      <td>23482.0</td>\n",
              "      <td>23482.0</td>\n",
              "    </tr>\n",
              "    <tr>\n",
              "      <th>266617</th>\n",
              "      <td>18995.0</td>\n",
              "      <td>18995.0</td>\n",
              "      <td>16951.0</td>\n",
              "      <td>16951.0</td>\n",
              "      <td>16951.0</td>\n",
              "      <td>16951.0</td>\n",
              "      <td>18995.0</td>\n",
              "      <td>15988.0</td>\n",
              "      <td>18995.0</td>\n",
              "      <td>18995.0</td>\n",
              "    </tr>\n",
              "    <tr>\n",
              "      <th>...</th>\n",
              "      <td>...</td>\n",
              "      <td>...</td>\n",
              "      <td>...</td>\n",
              "      <td>...</td>\n",
              "      <td>...</td>\n",
              "      <td>...</td>\n",
              "      <td>...</td>\n",
              "      <td>...</td>\n",
              "      <td>...</td>\n",
              "      <td>...</td>\n",
              "    </tr>\n",
              "    <tr>\n",
              "      <th>399845</th>\n",
              "      <td>15976.0</td>\n",
              "      <td>17988.0</td>\n",
              "      <td>15976.0</td>\n",
              "      <td>17988.0</td>\n",
              "      <td>17988.0</td>\n",
              "      <td>16977.0</td>\n",
              "      <td>15976.0</td>\n",
              "      <td>17988.0</td>\n",
              "      <td>15976.0</td>\n",
              "      <td>17988.0</td>\n",
              "    </tr>\n",
              "    <tr>\n",
              "      <th>399928</th>\n",
              "      <td>14699.0</td>\n",
              "      <td>14699.0</td>\n",
              "      <td>15700.0</td>\n",
              "      <td>16900.0</td>\n",
              "      <td>15700.0</td>\n",
              "      <td>15999.0</td>\n",
              "      <td>14995.0</td>\n",
              "      <td>14851.0</td>\n",
              "      <td>14851.0</td>\n",
              "      <td>14851.0</td>\n",
              "    </tr>\n",
              "    <tr>\n",
              "      <th>399934</th>\n",
              "      <td>18330.0</td>\n",
              "      <td>17803.0</td>\n",
              "      <td>18330.0</td>\n",
              "      <td>23533.0</td>\n",
              "      <td>18330.0</td>\n",
              "      <td>23533.0</td>\n",
              "      <td>18330.0</td>\n",
              "      <td>23533.0</td>\n",
              "      <td>18330.0</td>\n",
              "      <td>18330.0</td>\n",
              "    </tr>\n",
              "    <tr>\n",
              "      <th>399951</th>\n",
              "      <td>10495.0</td>\n",
              "      <td>10495.0</td>\n",
              "      <td>12989.0</td>\n",
              "      <td>12989.0</td>\n",
              "      <td>10495.0</td>\n",
              "      <td>10495.0</td>\n",
              "      <td>12989.0</td>\n",
              "      <td>10495.0</td>\n",
              "      <td>12995.0</td>\n",
              "      <td>10495.0</td>\n",
              "    </tr>\n",
              "    <tr>\n",
              "      <th>399976</th>\n",
              "      <td>11985.0</td>\n",
              "      <td>12922.0</td>\n",
              "      <td>12922.0</td>\n",
              "      <td>11898.0</td>\n",
              "      <td>11985.0</td>\n",
              "      <td>11985.0</td>\n",
              "      <td>11000.0</td>\n",
              "      <td>12922.0</td>\n",
              "      <td>10492.0</td>\n",
              "      <td>11995.0</td>\n",
              "    </tr>\n",
              "  </tbody>\n",
              "</table>\n",
              "<p>3464 rows × 10 columns</p>\n",
              "</div>\n",
              "      <button class=\"colab-df-convert\" onclick=\"convertToInteractive('df-ec74f6b4-6563-473f-a75b-4dc6e008eea2')\"\n",
              "              title=\"Convert this dataframe to an interactive table.\"\n",
              "              style=\"display:none;\">\n",
              "        \n",
              "  <svg xmlns=\"http://www.w3.org/2000/svg\" height=\"24px\"viewBox=\"0 0 24 24\"\n",
              "       width=\"24px\">\n",
              "    <path d=\"M0 0h24v24H0V0z\" fill=\"none\"/>\n",
              "    <path d=\"M18.56 5.44l.94 2.06.94-2.06 2.06-.94-2.06-.94-.94-2.06-.94 2.06-2.06.94zm-11 1L8.5 8.5l.94-2.06 2.06-.94-2.06-.94L8.5 2.5l-.94 2.06-2.06.94zm10 10l.94 2.06.94-2.06 2.06-.94-2.06-.94-.94-2.06-.94 2.06-2.06.94z\"/><path d=\"M17.41 7.96l-1.37-1.37c-.4-.4-.92-.59-1.43-.59-.52 0-1.04.2-1.43.59L10.3 9.45l-7.72 7.72c-.78.78-.78 2.05 0 2.83L4 21.41c.39.39.9.59 1.41.59.51 0 1.02-.2 1.41-.59l7.78-7.78 2.81-2.81c.8-.78.8-2.07 0-2.86zM5.41 20L4 18.59l7.72-7.72 1.47 1.35L5.41 20z\"/>\n",
              "  </svg>\n",
              "      </button>\n",
              "      \n",
              "  <style>\n",
              "    .colab-df-container {\n",
              "      display:flex;\n",
              "      flex-wrap:wrap;\n",
              "      gap: 12px;\n",
              "    }\n",
              "\n",
              "    .colab-df-convert {\n",
              "      background-color: #E8F0FE;\n",
              "      border: none;\n",
              "      border-radius: 50%;\n",
              "      cursor: pointer;\n",
              "      display: none;\n",
              "      fill: #1967D2;\n",
              "      height: 32px;\n",
              "      padding: 0 0 0 0;\n",
              "      width: 32px;\n",
              "    }\n",
              "\n",
              "    .colab-df-convert:hover {\n",
              "      background-color: #E2EBFA;\n",
              "      box-shadow: 0px 1px 2px rgba(60, 64, 67, 0.3), 0px 1px 3px 1px rgba(60, 64, 67, 0.15);\n",
              "      fill: #174EA6;\n",
              "    }\n",
              "\n",
              "    [theme=dark] .colab-df-convert {\n",
              "      background-color: #3B4455;\n",
              "      fill: #D2E3FC;\n",
              "    }\n",
              "\n",
              "    [theme=dark] .colab-df-convert:hover {\n",
              "      background-color: #434B5C;\n",
              "      box-shadow: 0px 1px 3px 1px rgba(0, 0, 0, 0.15);\n",
              "      filter: drop-shadow(0px 1px 2px rgba(0, 0, 0, 0.3));\n",
              "      fill: #FFFFFF;\n",
              "    }\n",
              "  </style>\n",
              "\n",
              "      <script>\n",
              "        const buttonEl =\n",
              "          document.querySelector('#df-ec74f6b4-6563-473f-a75b-4dc6e008eea2 button.colab-df-convert');\n",
              "        buttonEl.style.display =\n",
              "          google.colab.kernel.accessAllowed ? 'block' : 'none';\n",
              "\n",
              "        async function convertToInteractive(key) {\n",
              "          const element = document.querySelector('#df-ec74f6b4-6563-473f-a75b-4dc6e008eea2');\n",
              "          const dataTable =\n",
              "            await google.colab.kernel.invokeFunction('convertToInteractive',\n",
              "                                                     [key], {});\n",
              "          if (!dataTable) return;\n",
              "\n",
              "          const docLinkHtml = 'Like what you see? Visit the ' +\n",
              "            '<a target=\"_blank\" href=https://colab.research.google.com/notebooks/data_table.ipynb>data table notebook</a>'\n",
              "            + ' to learn more about interactive tables.';\n",
              "          element.innerHTML = '';\n",
              "          dataTable['output_type'] = 'display_data';\n",
              "          await google.colab.output.renderOutput(dataTable, element);\n",
              "          const docLink = document.createElement('div');\n",
              "          docLink.innerHTML = docLinkHtml;\n",
              "          element.appendChild(docLink);\n",
              "        }\n",
              "      </script>\n",
              "    </div>\n",
              "  </div>\n",
              "  "
            ]
          },
          "metadata": {},
          "execution_count": 13
        }
      ]
    },
    {
      "cell_type": "code",
      "source": [
        "# Desempeño de cada árbol\n",
        "from sklearn.metrics import mean_squared_error\n",
        "for i in range(n_B):\n",
        "    print('Árbol ', i, 'tiene un error: ', np.sqrt(mean_squared_error(y_pred.iloc[:,i], y_test)))"
      ],
      "metadata": {
        "colab": {
          "base_uri": "https://localhost:8080/"
        },
        "id": "WBuCc40JynK-",
        "outputId": "6bbe1c07-e3ab-4a71-bede-f69b39aadce6"
      },
      "execution_count": null,
      "outputs": [
        {
          "output_type": "stream",
          "name": "stdout",
          "text": [
            "Árbol  0 tiene un error:  1660.1411726141453\n",
            "Árbol  1 tiene un error:  1624.2014889152688\n",
            "Árbol  2 tiene un error:  1619.3033008294965\n",
            "Árbol  3 tiene un error:  1661.0335050691997\n",
            "Árbol  4 tiene un error:  1642.5555994451854\n",
            "Árbol  5 tiene un error:  1630.948425578028\n",
            "Árbol  6 tiene un error:  1663.1370581249548\n",
            "Árbol  7 tiene un error:  1651.6951167490276\n",
            "Árbol  8 tiene un error:  1659.3293244606423\n",
            "Árbol  9 tiene un error:  1635.898227033642\n"
          ]
        }
      ]
    },
    {
      "cell_type": "code",
      "source": [
        "# Predicciones promedio para cada obserbación del set de test\n",
        "y_pred.mean(axis=1)"
      ],
      "metadata": {
        "colab": {
          "base_uri": "https://localhost:8080/"
        },
        "id": "ODAxOUZ-yqyM",
        "outputId": "9d298004-af7b-4b9d-f11b-d5b597fd2bb5"
      },
      "execution_count": null,
      "outputs": [
        {
          "output_type": "execute_result",
          "data": {
            "text/plain": [
              "266476    10298.3\n",
              "266526     6664.4\n",
              "266544    15788.7\n",
              "266552    19144.3\n",
              "266617    17876.7\n",
              "           ...   \n",
              "399845    17082.1\n",
              "399928    15324.5\n",
              "399934    19838.2\n",
              "399951    11493.2\n",
              "399976    12010.6\n",
              "Length: 3464, dtype: float64"
            ]
          },
          "metadata": {},
          "execution_count": 15
        }
      ]
    },
    {
      "cell_type": "code",
      "source": [
        "# Error al promediar las predicciones de todos los árboles\n",
        "np.sqrt(mean_squared_error(y_test, y_pred.mean(axis=1)))"
      ],
      "metadata": {
        "colab": {
          "base_uri": "https://localhost:8080/"
        },
        "id": "StGs8aguytht",
        "outputId": "da5265e6-09fd-4659-d9ab-b64dbd826f57"
      },
      "execution_count": null,
      "outputs": [
        {
          "output_type": "execute_result",
          "data": {
            "text/plain": [
              "1224.9754517796266"
            ]
          },
          "metadata": {},
          "execution_count": 16
        }
      ]
    },
    {
      "cell_type": "markdown",
      "source": [
        "Teniendo en cuenta la métrica de desempeño del modelo **root mean_squared_error** se observa que los 10 arboles presentan errores similares, y que el que presenta el mejor error que es el árbol 2 con **1619** esta por debajo del desempeño de los modelos combinados con un error de **1224** lo que ratifica el mejor desempeño del ensamblaje."
      ],
      "metadata": {
        "id": "iie5SlPmy57c"
      }
    },
    {
      "cell_type": "markdown",
      "metadata": {
        "id": "if30Qtn82asd"
      },
      "source": [
        "### Punto 3 - Bagging con librería\n",
        "\n",
        "En la celda 3, con la librería sklearn, entrenen un modelo bagging con 10 árboles de clasificación y el parámetro `max_features` igual a `log(n_features)` y comenten sobre el desempeño del modelo."
      ]
    },
    {
      "cell_type": "code",
      "execution_count": null,
      "metadata": {
        "id": "ZbOfOB0E2ase",
        "colab": {
          "base_uri": "https://localhost:8080/"
        },
        "outputId": "bd06e129-b1a4-4a56-9241-aa83af41e078"
      },
      "outputs": [
        {
          "output_type": "stream",
          "name": "stdout",
          "text": [
            "7031\n",
            "3464\n",
            "7031\n",
            "3464\n"
          ]
        }
      ],
      "source": [
        "# Celda 3\n",
        "print(len(X_train))\n",
        "print(len(X_test))\n",
        "print(len(y_train))\n",
        "print(len(y_test))"
      ]
    },
    {
      "cell_type": "code",
      "source": [
        "# Se define log_n_features como el logaritmo natural del total de las variables predictoras rendondeadas.\n",
        "import math\n",
        "log_n_features = int(math.log(len(X_train.columns)))\n",
        "log_n_features "
      ],
      "metadata": {
        "colab": {
          "base_uri": "https://localhost:8080/"
        },
        "id": "pv08GjjBzrTZ",
        "outputId": "3427b81e-fdf6-4162-dcc9-3180002b73ae"
      },
      "execution_count": null,
      "outputs": [
        {
          "output_type": "execute_result",
          "data": {
            "text/plain": [
              "2"
            ]
          },
          "metadata": {},
          "execution_count": 18
        }
      ]
    },
    {
      "cell_type": "code",
      "source": [
        "# Uso de BaggingRegressor de la libreria (sklearn) donde se usa el modelo DecisionTreeRegressor como estimador y max_features= log_n_features\n",
        "from sklearn.ensemble import BaggingRegressor\n",
        "bagreg = BaggingRegressor(DecisionTreeRegressor(), n_estimators=10, max_features= log_n_features,\n",
        "                          bootstrap=True, oob_score=True, random_state=1)"
      ],
      "metadata": {
        "id": "aRtJWu3fz3kd"
      },
      "execution_count": null,
      "outputs": []
    },
    {
      "cell_type": "code",
      "source": [
        "# Entrenemiento del modelo con set de entrenamiento y predicción en el set de test\n",
        "bagreg.fit(X_train, y_train)\n",
        "y_pred = bagreg.predict(X_test)\n",
        "y_pred"
      ],
      "metadata": {
        "colab": {
          "base_uri": "https://localhost:8080/"
        },
        "id": "LQqx3Z26z7N6",
        "outputId": "f3831bff-1360-463f-8e1c-810c38a45203"
      },
      "execution_count": null,
      "outputs": [
        {
          "output_type": "execute_result",
          "data": {
            "text/plain": [
              "array([14053.03558458, 11243.53959462, 14920.88654487, ...,\n",
              "       15850.81283632, 13181.6624878 , 13592.438716  ])"
            ]
          },
          "metadata": {},
          "execution_count": 20
        }
      ]
    },
    {
      "cell_type": "code",
      "source": [
        "# Cálculo del error del modelo\n",
        "np.sqrt(mean_squared_error(y_test, y_pred))"
      ],
      "metadata": {
        "colab": {
          "base_uri": "https://localhost:8080/"
        },
        "id": "erLNxNE6z-Av",
        "outputId": "f66d46cf-1191-4e27-a3f0-99c49cb42ac2"
      },
      "execution_count": null,
      "outputs": [
        {
          "output_type": "execute_result",
          "data": {
            "text/plain": [
              "2671.0127988157697"
            ]
          },
          "metadata": {},
          "execution_count": 21
        }
      ]
    },
    {
      "cell_type": "markdown",
      "source": [
        "Siendo P el número de variables predictoras del modelo y teniendo en cuenta que este es un problema de regresión el parámetro **max_features** debería estar entre P/3 y P, como en este caso se contemplo igual a log(n_features) presenta un error mayor (**2671**) que teniendo en cuenta todas las variables predictoras como se observó en el modelo de bagging manual igual a (**1224**), esto quiere decir que para este caso el desempeño del modelo desmejoro."
      ],
      "metadata": {
        "id": "KGQTTcxD0E_c"
      }
    },
    {
      "cell_type": "markdown",
      "metadata": {
        "id": "0-ZpuQ912ase"
      },
      "source": [
        "### Punto 4 - Random forest con librería\n",
        "\n",
        "En la celda 4, usando la librería sklearn entrenen un modelo de Randon Forest para regresión y comenten sobre el desempeño del modelo."
      ]
    },
    {
      "cell_type": "code",
      "execution_count": null,
      "metadata": {
        "id": "xCTYeZIJ2ase",
        "colab": {
          "base_uri": "https://localhost:8080/"
        },
        "outputId": "1f62b44c-9156-46ab-db15-2cd64097ce38"
      },
      "outputs": [
        {
          "output_type": "stream",
          "name": "stdout",
          "text": [
            "RMSE:  1618.3981767912924\n",
            "MAE:  1200.3937072243482\n"
          ]
        }
      ],
      "source": [
        "# Celda 4\n",
        "# Definición de modelo Random Forest para un problema de clasificación\n",
        "clf = RandomForestRegressor(n_estimators=100, max_depth=5, random_state=42)\n",
        "\n",
        "# Ajustar el modelo en los datos de entrenamiento\n",
        "clf.fit(X_train, y_train)\n",
        "\n",
        "# Hacer predicciones en el conjunto de prueba\n",
        "y_pred = clf.predict(X_test)\n",
        "\n",
        "# Cálculo MSE y MAE\n",
        "rmserf = np.sqrt(mean_squared_error(y_test, y_pred))\n",
        "maerf = mean_absolute_error(y_test, y_pred)\n",
        "print(\"RMSE: \", rmserf)\n",
        "print(\"MAE: \", maerf)\n"
      ]
    },
    {
      "cell_type": "markdown",
      "source": [
        "Se estima el modelo random forest con 100 árboles y con una profundida máxima de 5. Si se compara el RMSE y MAE frente al árbol de decision vemos que random forest tiene un mayor poder predictivo pues sus valores son menores. Esto se debe a que se utilizan varios árboles con remuestreo aleatorio consiguiendo una mayor precisión y estabilidad, de igual manera se reduce la varianza. Sin embargo, es importante realizar una calibración de los parámetros ya que esto podria mejor la precisión del modelo. "
      ],
      "metadata": {
        "id": "sMvPHL3NQBqC"
      }
    },
    {
      "cell_type": "markdown",
      "metadata": {
        "id": "jDuTRrS42asf"
      },
      "source": [
        "### Punto 5 - Calibración de parámetros Random forest\n",
        "\n",
        "En la celda 5, calibren los parámetros max_depth, max_features y n_estimators del modelo de Randon Forest para clasificación, comenten sobre el desempeño del modelo y describan cómo cada parámetro afecta el desempeño del modelo."
      ]
    },
    {
      "cell_type": "code",
      "execution_count": null,
      "metadata": {
        "id": "0gAMxlOO2asf",
        "colab": {
          "base_uri": "https://localhost:8080/",
          "height": 467
        },
        "outputId": "63e637d7-6963-4fcf-b895-284d45586cbb"
      },
      "outputs": [
        {
          "output_type": "stream",
          "name": "stdout",
          "text": [
            "El N_estimators que minimiza el MAE es de  61\n"
          ]
        },
        {
          "output_type": "display_data",
          "data": {
            "text/plain": [
              "<Figure size 640x480 with 1 Axes>"
            ],
            "image/png": "[encoded data removed]"
          },
          "metadata": {}
        }
      ],
      "source": [
        "from sklearn.ensemble import RandomForestRegressor\n",
        "from sklearn.model_selection import cross_val_score\n",
        "import matplotlib.pyplot as plt\n",
        "# Calibración n_estimators\n",
        "# Creación de lista de valores para iterar sobre diferentes valores de n_estimators\n",
        "estimator_range_nestimators = range(1,100,10)\n",
        "\n",
        "# Definición de lista para almacenar la exactitud (accuracy) promedio para cada valor de n_estimators\n",
        "accuracy_scores_nestimators = []\n",
        "\n",
        "# Uso de un 5-fold cross-validation para cada valor de n_estimators\n",
        "for estimator in estimator_range_nestimators:\n",
        "    clf = RandomForestRegressor(n_estimators=estimator, random_state=1)\n",
        "    accuracy_scores_nestimators.append(cross_val_score(clf, X, y, cv=5, scoring = 'neg_mean_absolute_error').mean())\n",
        "\n",
        "plt.plot(estimator_range_nestimators, accuracy_scores_nestimators)\n",
        "plt.xlabel('n_estimators')\n",
        "plt.ylabel('Negative Mean Absolute Error')\n",
        "print('El N_estimators que minimiza el MAE es de  '+str(estimator_range_nestimators[accuracy_scores_nestimators.index(max(accuracy_scores_nestimators))]))\n"
      ]
    },
    {
      "cell_type": "code",
      "source": [
        "from sklearn.ensemble import RandomForestRegressor\n",
        "from sklearn.model_selection import cross_val_score\n",
        "import matplotlib.pyplot as plt\n",
        "# Calibración max_depth\n",
        "# Creación de lista de valores para iterar sobre diferentes valores de n_estimators\n",
        "depth_range_nestimators = range(1,40)\n",
        "\n",
        "# Definición de lista para almacenar la exactitud (accuracy) promedio para cada valor de n_estimators\n",
        "accuracy_scores_depth = []\n",
        "\n",
        "# Uso de un 5-fold cross-validation para cada valor de n_estimators\n",
        "for estimator in depth_range_nestimators:\n",
        "    clf = RandomForestRegressor(max_depth=estimator, random_state=1)\n",
        "    accuracy_scores_depth.append(cross_val_score(clf, X, y, cv=5, scoring = 'neg_mean_absolute_error').mean())\n",
        "\n",
        "plt.plot(depth_range_nestimators, accuracy_scores_depth)\n",
        "plt.xlabel('max_depth')\n",
        "plt.ylabel('Negative Mean Absolute Error')\n",
        "print('El max_depth que minimiza el MAE es de  '+str(accuracy_scores_depth.index(max(accuracy_scores_depth))+1))"
      ],
      "metadata": {
        "colab": {
          "base_uri": "https://localhost:8080/",
          "height": 467
        },
        "id": "AfhpBdh59bVY",
        "outputId": "5989a949-4870-43a9-a509-973ae0c90c4b"
      },
      "execution_count": null,
      "outputs": [
        {
          "output_type": "stream",
          "name": "stdout",
          "text": [
            "El max_depth que minimiza el MAE es de  8\n"
          ]
        },
        {
          "output_type": "display_data",
          "data": {
            "text/plain": [
              "<Figure size 640x480 with 1 Axes>"
            ],
            "image/png": "[encoded data removed]"
          },
          "metadata": {}
        }
      ]
    },
    {
      "cell_type": "code",
      "source": [
        "from sklearn.ensemble import RandomForestRegressor\n",
        "from sklearn.model_selection import cross_val_score\n",
        "import matplotlib.pyplot as plt\n",
        "# Calibración max_features\n",
        "# Creación de lista de valores para iterar sobre diferentes valores de n_estimators\n",
        "features_range_nestimators = range(1,10)\n",
        "\n",
        "# Definición de lista para almacenar la exactitud (accuracy) promedio para cada valor de n_estimators\n",
        "accuracy_scores_features = []\n",
        "\n",
        "# Uso de un 5-fold cross-validation para cada valor de n_estimators\n",
        "for estimator in features_range_nestimators:\n",
        "    clf = RandomForestRegressor(max_features=estimator, random_state=1)\n",
        "    accuracy_scores_features.append(cross_val_score(clf, X, y, cv=5, scoring = 'neg_mean_absolute_error').mean())\n",
        "\n",
        "plt.plot(features_range_nestimators, accuracy_scores_features)\n",
        "plt.xlabel('max_features')\n",
        "plt.ylabel('Negative Mean Absolute Error')\n",
        "print('El max_features que minimiza el MAE es de  '+str(features_range_nestimators[accuracy_scores_features.index(max(accuracy_scores_features))]))"
      ],
      "metadata": {
        "colab": {
          "base_uri": "https://localhost:8080/",
          "height": 467
        },
        "id": "Pk8vIsUFB9Ch",
        "outputId": "41810dfb-268d-479f-93d1-dee729743412"
      },
      "execution_count": null,
      "outputs": [
        {
          "output_type": "stream",
          "name": "stdout",
          "text": [
            "El max_features que minimiza el MAE es de  9\n"
          ]
        },
        {
          "output_type": "display_data",
          "data": {
            "text/plain": [
              "<Figure size 640x480 with 1 Axes>"
            ],
            "image/png": "[encoded data removed]"
          },
          "metadata": {}
        }
      ]
    },
    {
      "cell_type": "code",
      "source": [
        "from sklearn.metrics import explained_variance_score\n",
        "# Definición de modelo Random Forest para un problema de clasificación\n",
        "clf_cal = RandomForestRegressor(n_estimators=61, max_depth=8, max_features = 9, random_state=42)\n",
        "\n",
        "# Ajustar el modelo en los datos de entrenamiento\n",
        "clf_cal.fit(X_train, y_train)\n",
        "\n",
        "# Hacer predicciones en el conjunto de prueba\n",
        "y_pred_cal = clf_cal.predict(X_test)\n",
        "\n",
        "# Cálculo MSE y MAE\n",
        "rmserf_cal = np.sqrt(mean_squared_error(y_test, y_pred_cal))\n",
        "maerf_cal = mean_absolute_error(y_test, y_pred_cal)\n",
        "everf_cal = explained_variance_score(y_test, y_pred_cal)\n",
        "print(\"Explained Variance Score: \", everf_cal)\n",
        "print(\"RMSE: \", rmserf_cal)\n",
        "print(\"MAE: \", maerf_cal)"
      ],
      "metadata": {
        "colab": {
          "base_uri": "https://localhost:8080/"
        },
        "id": "0dIoupreDeV7",
        "outputId": "afb2c8fd-d84e-46dc-c9bb-d1f5baca9bfc"
      },
      "execution_count": null,
      "outputs": [
        {
          "output_type": "stream",
          "name": "stdout",
          "text": [
            "Explained Variance Score:  0.8397864530648005\n",
            "RMSE:  1565.8147223729486\n",
            "MAE:  1150.676982606294\n"
          ]
        }
      ]
    },
    {
      "cell_type": "markdown",
      "source": [
        "Para cada una de los parámetros a calibrar, puede observarse el siguiente desempeño al interior del modelo:\n",
        "\n",
        "*   **n_estimators:** Conforme aumenta el número de árboles, disminuye el error del modelo. Sin embargo, se llega a un punto donde la disminución del error es mínima, y se incrementa progresivamente el tiempo de cómputo\n",
        "*   **max_depth:** Conforme aumenta la profundidad máxima, disminuye el error del modelo. Sin embargo, se llega a un punto máximo y empieza a aumentar el error, cuando empieza a observarse _overfitting_\n",
        "*   **max_features:** El error disminuye conforme aumenta la cantidad de variables. En este caso, al ser un número pequeño de variables, no se logra apreciar un descenso de las mismas\n",
        "\n",
        "Finalmente, al momento de comparar los resultados del random forest calibrado vs el random forest sin calibrar, se observa un descenso significativo de las métricas de error, por lo que siempre es recomendable realizar dicha calibración para obtener el mejor modelo\n",
        "\n",
        "\n",
        "\n",
        "\n"
      ],
      "metadata": {
        "id": "x4XNck9pV_Zh"
      }
    },
    {
      "cell_type": "markdown",
      "metadata": {
        "id": "0l_kucmj2asf"
      },
      "source": [
        "### Punto 6 - XGBoost con librería\n",
        "\n",
        "En la celda 6 implementen un modelo XGBoost de clasificación con la librería sklearn y comenten sobre el desempeño del modelo."
      ]
    },
    {
      "cell_type": "code",
      "execution_count": null,
      "metadata": {
        "id": "YgmLKWc-2asg",
        "colab": {
          "base_uri": "https://localhost:8080/"
        },
        "outputId": "9901261b-bc46-4236-808f-85621bcf411f"
      },
      "outputs": [
        {
          "output_type": "stream",
          "name": "stdout",
          "text": [
            "RMSE:  1621.4197004256812\n",
            "MAE:  1186.634392366123\n"
          ]
        }
      ],
      "source": [
        "# Celda 6\n",
        "from xgboost import XGBRegressor\n",
        "\n",
        "clf_xg = XGBRegressor()\n",
        "clf_xg\n",
        "clf_xg.fit(X_train, y_train)\n",
        "y_pred_xg = clf_xg.predict(X_test)\n",
        "# Cálculo MSE y MAE\n",
        "rmserf_xg = np.sqrt(mean_squared_error(y_test, y_pred_xg))\n",
        "maerf_xg = mean_absolute_error(y_test, y_pred_xg)\n",
        "print(\"RMSE: \", rmserf_xg)\n",
        "print(\"MAE: \", maerf_xg)\n"
      ]
    },
    {
      "cell_type": "markdown",
      "source": [
        "Al comparar con los modelos anteriormente ejecutados, puede observarse que el XGBoost posee métricas de error similares a las del modelo de Random Forest calibrado, por lo que se puede concluir que presenta un buen desempeño, y que con una calibración apropiada puede incluso llegar a superar en rendimiento al Random Forest"
      ],
      "metadata": {
        "id": "s9egBw27bykT"
      }
    },
    {
      "cell_type": "markdown",
      "metadata": {
        "id": "Bh3g7BfN2asg"
      },
      "source": [
        "### Punto 7 - Calibración de parámetros XGBoost\n",
        "\n",
        "En la celda 7 calibren los parámetros learning rate, gamma y colsample_bytree del modelo XGBoost para clasificación, comenten sobre el desempeño del modelo y describan cómo cada parámetro afecta el desempeño del modelo."
      ]
    },
    {
      "cell_type": "markdown",
      "source": [],
      "metadata": {
        "id": "fMoI-WEp2gbj"
      }
    },
    {
      "cell_type": "code",
      "source": [
        "import matplotlib.pyplot as plt\n",
        "accuracy_scores_features = []\n",
        "\n",
        "features_range_nestimators = [0.01, 0.1, 1]\n",
        "\n",
        "# Uso de un 5-fold cross-validation para cada valor de n_estimators\n",
        "for estimator in features_range_nestimators:\n",
        "    clf = XGBRegressor(learning_rate=estimator, random_state=1)\n",
        "    accuracy_scores_features.append(cross_val_score(clf, X, y, cv=5, scoring = 'neg_mean_absolute_error').mean())\n",
        "\n",
        "plt.plot(features_range_nestimators, accuracy_scores_features)\n",
        "plt.xlabel('max_features')\n",
        "plt.ylabel('Negative Mean Absolute Error')\n",
        "print('El max_features que minimiza el MAE es de  '+str(features_range_nestimators[accuracy_scores_features.index(max(accuracy_scores_features))]))"
      ],
      "metadata": {
        "colab": {
          "base_uri": "https://localhost:8080/",
          "height": 467
        },
        "id": "cSBctPTaOslQ",
        "outputId": "d4d77406-2462-4c0e-dbb1-f14f0278fe55"
      },
      "execution_count": null,
      "outputs": [
        {
          "output_type": "stream",
          "name": "stdout",
          "text": [
            "El max_features que minimiza el MAE es de  0.1\n"
          ]
        },
        {
          "output_type": "display_data",
          "data": {
            "text/plain": [
              "<Figure size 640x480 with 1 Axes>"
            ],
            "image/png": "[encoded data removed]"
          },
          "metadata": {}
        }
      ]
    },
    {
      "cell_type": "code",
      "source": [
        "import matplotlib.pyplot as plt\n",
        "accuracy_scores_features = []\n",
        "\n",
        "features_range_nestimators = [0, 0.1, 0.5, 1]\n",
        "\n",
        "# Uso de un 5-fold cross-validation para cada valor de n_estimators\n",
        "for estimator in features_range_nestimators:\n",
        "    clf = XGBRegressor(gamma=estimator, random_state=1)\n",
        "    accuracy_scores_features.append(cross_val_score(clf, X, y, cv=5, scoring = 'neg_mean_absolute_error').mean())\n",
        "\n",
        "plt.plot(features_range_nestimators, accuracy_scores_features)\n",
        "plt.xlabel('max_features')\n",
        "plt.ylabel('Negative Mean Absolute Error')\n",
        "print('El max_features que minimiza el MAE es de  '+str(features_range_nestimators[accuracy_scores_features.index(max(accuracy_scores_features))]))"
      ],
      "metadata": {
        "colab": {
          "base_uri": "https://localhost:8080/",
          "height": 467
        },
        "id": "XdHqxZjCPrG-",
        "outputId": "ad9e7b7e-bbf2-4c0e-8894-7b23cb02379f"
      },
      "execution_count": null,
      "outputs": [
        {
          "output_type": "stream",
          "name": "stdout",
          "text": [
            "El max_features que minimiza el MAE es de  0\n"
          ]
        },
        {
          "output_type": "display_data",
          "data": {
            "text/plain": [
              "<Figure size 640x480 with 1 Axes>"
            ],
            "image/png": "[encoded data removed]"
          },
          "metadata": {}
        }
      ]
    },
    {
      "cell_type": "code",
      "source": [
        "import matplotlib.pyplot as plt\n",
        "accuracy_scores_features = []\n",
        "\n",
        "features_range_nestimators = [0.3, 0.5, 0.7, 1]\n",
        "\n",
        "# Uso de un 5-fold cross-validation para cada valor de n_estimators\n",
        "for estimator in features_range_nestimators:\n",
        "    clf = XGBRegressor(colsample_bytree=estimator, random_state=1)\n",
        "    accuracy_scores_features.append(cross_val_score(clf, X, y, cv=5, scoring = 'neg_mean_absolute_error').mean())\n",
        "\n",
        "plt.plot(features_range_nestimators, accuracy_scores_features)\n",
        "plt.xlabel('max_features')\n",
        "plt.ylabel('Negative Mean Absolute Error')\n",
        "print('El max_features que minimiza el MAE es de  '+str(features_range_nestimators[accuracy_scores_features.index(max(accuracy_scores_features))]))"
      ],
      "metadata": {
        "colab": {
          "base_uri": "https://localhost:8080/",
          "height": 467
        },
        "id": "3gvREyUxP108",
        "outputId": "e1ce93bb-6bd2-4696-c2a5-d70dcde8a9a6"
      },
      "execution_count": null,
      "outputs": [
        {
          "output_type": "stream",
          "name": "stdout",
          "text": [
            "El max_features que minimiza el MAE es de  0.5\n"
          ]
        },
        {
          "output_type": "display_data",
          "data": {
            "text/plain": [
              "<Figure size 640x480 with 1 Axes>"
            ],
            "image/png": "[encoded data removed]"
          },
          "metadata": {}
        }
      ]
    },
    {
      "cell_type": "code",
      "source": [
        "from xgboost import XGBRegressor\n",
        "from sklearn.model_selection import GridSearchCV\n",
        "\n",
        "# Definir los parámetros para el modelo XGBoost\n",
        "parametros = {\n",
        "    'learning_rate': [0.01, 0.1, 1],\n",
        "    'gamma': [0, 0.1, 0.5, 1],\n",
        "    'colsample_bytree': [0.3, 0.5, 0.7, 1]\n",
        "}\n",
        "\n",
        "# Crear el modelo XGBoost\n",
        "xgb_reg = XGBRegressor()\n",
        "\n",
        "# Usar GridSearchCV para buscar los mejores parámetros\n",
        "busqueda = GridSearchCV(xgb_reg, parametros, scoring='explained_variance', cv=5, verbose=3)\n",
        "\n",
        "# Ajustar el modelo a los datos de entrenamiento\n",
        "busqueda.fit(X_train, y_train)\n",
        "\n",
        "# Imprimir los mejores parámetros y puntajes de la búsqueda\n",
        "print(\"Mejores parámetros: \", busqueda.best_params_)\n",
        "print(\"Mejor puntaje: \", busqueda.best_score_)\n"
      ],
      "metadata": {
        "colab": {
          "base_uri": "https://localhost:8080/"
        },
        "id": "jsQoDRMBG946",
        "outputId": "70fbfaa7-75bb-4842-8c19-216500ceb735"
      },
      "execution_count": null,
      "outputs": [
        {
          "output_type": "stream",
          "name": "stdout",
          "text": [
            "Fitting 5 folds for each of 48 candidates, totalling 240 fits\n",
            "[CV 1/5] END colsample_bytree=0.3, gamma=0, learning_rate=0.01;, score=0.487 total time=   0.2s\n",
            "[CV 2/5] END colsample_bytree=0.3, gamma=0, learning_rate=0.01;, score=0.505 total time=   0.2s\n",
            "[CV 3/5] END colsample_bytree=0.3, gamma=0, learning_rate=0.01;, score=0.510 total time=   0.2s\n",
            "[CV 4/5] END colsample_bytree=0.3, gamma=0, learning_rate=0.01;, score=0.508 total time=   0.3s\n",
            "[CV 5/5] END colsample_bytree=0.3, gamma=0, learning_rate=0.01;, score=0.500 total time=   2.0s\n",
            "[CV 1/5] END colsample_bytree=0.3, gamma=0, learning_rate=0.1;, score=0.833 total time=   0.2s\n",
            "[CV 2/5] END colsample_bytree=0.3, gamma=0, learning_rate=0.1;, score=0.838 total time=   0.2s\n",
            "[CV 3/5] END colsample_bytree=0.3, gamma=0, learning_rate=0.1;, score=0.855 total time=   0.2s\n",
            "[CV 4/5] END colsample_bytree=0.3, gamma=0, learning_rate=0.1;, score=0.869 total time=   0.2s\n",
            "[CV 5/5] END colsample_bytree=0.3, gamma=0, learning_rate=0.1;, score=0.829 total time=   0.2s\n",
            "[CV 1/5] END colsample_bytree=0.3, gamma=0, learning_rate=1;, score=0.811 total time=   0.2s\n",
            "[CV 2/5] END colsample_bytree=0.3, gamma=0, learning_rate=1;, score=0.824 total time=   0.2s\n",
            "[CV 3/5] END colsample_bytree=0.3, gamma=0, learning_rate=1;, score=0.834 total time=   0.2s\n",
            "[CV 4/5] END colsample_bytree=0.3, gamma=0, learning_rate=1;, score=0.844 total time=   0.2s\n",
            "[CV 5/5] END colsample_bytree=0.3, gamma=0, learning_rate=1;, score=0.808 total time=   0.2s\n",
            "[CV 1/5] END colsample_bytree=0.3, gamma=0.1, learning_rate=0.01;, score=0.487 total time=   0.2s\n",
            "[CV 2/5] END colsample_bytree=0.3, gamma=0.1, learning_rate=0.01;, score=0.505 total time=   0.2s\n",
            "[CV 3/5] END colsample_bytree=0.3, gamma=0.1, learning_rate=0.01;, score=0.510 total time=   0.2s\n",
            "[CV 4/5] END colsample_bytree=0.3, gamma=0.1, learning_rate=0.01;, score=0.508 total time=   0.2s\n",
            "[CV 5/5] END colsample_bytree=0.3, gamma=0.1, learning_rate=0.01;, score=0.500 total time=   0.2s\n",
            "[CV 1/5] END colsample_bytree=0.3, gamma=0.1, learning_rate=0.1;, score=0.833 total time=   0.2s\n",
            "[CV 2/5] END colsample_bytree=0.3, gamma=0.1, learning_rate=0.1;, score=0.838 total time=   0.2s\n",
            "[CV 3/5] END colsample_bytree=0.3, gamma=0.1, learning_rate=0.1;, score=0.855 total time=   0.2s\n",
            "[CV 4/5] END colsample_bytree=0.3, gamma=0.1, learning_rate=0.1;, score=0.869 total time=   0.2s\n",
            "[CV 5/5] END colsample_bytree=0.3, gamma=0.1, learning_rate=0.1;, score=0.829 total time=   0.2s\n",
            "[CV 1/5] END colsample_bytree=0.3, gamma=0.1, learning_rate=1;, score=0.811 total time=   0.2s\n",
            "[CV 2/5] END colsample_bytree=0.3, gamma=0.1, learning_rate=1;, score=0.824 total time=   0.2s\n",
            "[CV 3/5] END colsample_bytree=0.3, gamma=0.1, learning_rate=1;, score=0.834 total time=   0.2s\n",
            "[CV 4/5] END colsample_bytree=0.3, gamma=0.1, learning_rate=1;, score=0.844 total time=   0.2s\n",
            "[CV 5/5] END colsample_bytree=0.3, gamma=0.1, learning_rate=1;, score=0.808 total time=   0.2s\n",
            "[CV 1/5] END colsample_bytree=0.3, gamma=0.5, learning_rate=0.01;, score=0.487 total time=   0.2s\n",
            "[CV 2/5] END colsample_bytree=0.3, gamma=0.5, learning_rate=0.01;, score=0.505 total time=   0.2s\n",
            "[CV 3/5] END colsample_bytree=0.3, gamma=0.5, learning_rate=0.01;, score=0.510 total time=   0.2s\n",
            "[CV 4/5] END colsample_bytree=0.3, gamma=0.5, learning_rate=0.01;, score=0.508 total time=   0.2s\n",
            "[CV 5/5] END colsample_bytree=0.3, gamma=0.5, learning_rate=0.01;, score=0.500 total time=   0.2s\n",
            "[CV 1/5] END colsample_bytree=0.3, gamma=0.5, learning_rate=0.1;, score=0.833 total time=   0.2s\n",
            "[CV 2/5] END colsample_bytree=0.3, gamma=0.5, learning_rate=0.1;, score=0.838 total time=   0.2s\n",
            "[CV 3/5] END colsample_bytree=0.3, gamma=0.5, learning_rate=0.1;, score=0.855 total time=   0.2s\n",
            "[CV 4/5] END colsample_bytree=0.3, gamma=0.5, learning_rate=0.1;, score=0.869 total time=   0.2s\n",
            "[CV 5/5] END colsample_bytree=0.3, gamma=0.5, learning_rate=0.1;, score=0.829 total time=   0.2s\n",
            "[CV 1/5] END colsample_bytree=0.3, gamma=0.5, learning_rate=1;, score=0.811 total time=   0.2s\n",
            "[CV 2/5] END colsample_bytree=0.3, gamma=0.5, learning_rate=1;, score=0.824 total time=   0.2s\n",
            "[CV 3/5] END colsample_bytree=0.3, gamma=0.5, learning_rate=1;, score=0.834 total time=   0.2s\n",
            "[CV 4/5] END colsample_bytree=0.3, gamma=0.5, learning_rate=1;, score=0.844 total time=   0.2s\n",
            "[CV 5/5] END colsample_bytree=0.3, gamma=0.5, learning_rate=1;, score=0.808 total time=   0.2s\n",
            "[CV 1/5] END colsample_bytree=0.3, gamma=1, learning_rate=0.01;, score=0.487 total time=   0.2s\n",
            "[CV 2/5] END colsample_bytree=0.3, gamma=1, learning_rate=0.01;, score=0.505 total time=   0.2s\n",
            "[CV 3/5] END colsample_bytree=0.3, gamma=1, learning_rate=0.01;, score=0.510 total time=   0.2s\n",
            "[CV 4/5] END colsample_bytree=0.3, gamma=1, learning_rate=0.01;, score=0.508 total time=   0.1s\n",
            "[CV 5/5] END colsample_bytree=0.3, gamma=1, learning_rate=0.01;, score=0.500 total time=   0.2s\n",
            "[CV 1/5] END colsample_bytree=0.3, gamma=1, learning_rate=0.1;, score=0.833 total time=   0.2s\n",
            "[CV 2/5] END colsample_bytree=0.3, gamma=1, learning_rate=0.1;, score=0.838 total time=   0.2s\n",
            "[CV 3/5] END colsample_bytree=0.3, gamma=1, learning_rate=0.1;, score=0.855 total time=   0.2s\n",
            "[CV 4/5] END colsample_bytree=0.3, gamma=1, learning_rate=0.1;, score=0.869 total time=   0.2s\n",
            "[CV 5/5] END colsample_bytree=0.3, gamma=1, learning_rate=0.1;, score=0.829 total time=   0.2s\n",
            "[CV 1/5] END colsample_bytree=0.3, gamma=1, learning_rate=1;, score=0.811 total time=   0.2s\n",
            "[CV 2/5] END colsample_bytree=0.3, gamma=1, learning_rate=1;, score=0.824 total time=   0.2s\n",
            "[CV 3/5] END colsample_bytree=0.3, gamma=1, learning_rate=1;, score=0.834 total time=   0.2s\n",
            "[CV 4/5] END colsample_bytree=0.3, gamma=1, learning_rate=1;, score=0.844 total time=   0.2s\n",
            "[CV 5/5] END colsample_bytree=0.3, gamma=1, learning_rate=1;, score=0.808 total time=   0.2s\n",
            "[CV 1/5] END colsample_bytree=0.5, gamma=0, learning_rate=0.01;, score=0.637 total time=   0.3s\n",
            "[CV 2/5] END colsample_bytree=0.5, gamma=0, learning_rate=0.01;, score=0.656 total time=   2.2s\n",
            "[CV 3/5] END colsample_bytree=0.5, gamma=0, learning_rate=0.01;, score=0.661 total time=   0.3s\n",
            "[CV 4/5] END colsample_bytree=0.5, gamma=0, learning_rate=0.01;, score=0.662 total time=   0.3s\n",
            "[CV 5/5] END colsample_bytree=0.5, gamma=0, learning_rate=0.01;, score=0.649 total time=   0.3s\n",
            "[CV 1/5] END colsample_bytree=0.5, gamma=0, learning_rate=0.1;, score=0.842 total time=   0.3s\n",
            "[CV 2/5] END colsample_bytree=0.5, gamma=0, learning_rate=0.1;, score=0.845 total time=   0.3s\n",
            "[CV 3/5] END colsample_bytree=0.5, gamma=0, learning_rate=0.1;, score=0.862 total time=   0.3s\n",
            "[CV 4/5] END colsample_bytree=0.5, gamma=0, learning_rate=0.1;, score=0.874 total time=   0.3s\n",
            "[CV 5/5] END colsample_bytree=0.5, gamma=0, learning_rate=0.1;, score=0.834 total time=   0.3s\n",
            "[CV 1/5] END colsample_bytree=0.5, gamma=0, learning_rate=1;, score=0.787 total time=   0.3s\n",
            "[CV 2/5] END colsample_bytree=0.5, gamma=0, learning_rate=1;, score=0.798 total time=   0.3s\n",
            "[CV 3/5] END colsample_bytree=0.5, gamma=0, learning_rate=1;, score=0.818 total time=   0.3s\n",
            "[CV 4/5] END colsample_bytree=0.5, gamma=0, learning_rate=1;, score=0.825 total time=   0.3s\n",
            "[CV 5/5] END colsample_bytree=0.5, gamma=0, learning_rate=1;, score=0.780 total time=   0.3s\n",
            "[CV 1/5] END colsample_bytree=0.5, gamma=0.1, learning_rate=0.01;, score=0.637 total time=   0.3s\n",
            "[CV 2/5] END colsample_bytree=0.5, gamma=0.1, learning_rate=0.01;, score=0.656 total time=   0.9s\n",
            "[CV 3/5] END colsample_bytree=0.5, gamma=0.1, learning_rate=0.01;, score=0.661 total time=   0.3s\n",
            "[CV 4/5] END colsample_bytree=0.5, gamma=0.1, learning_rate=0.01;, score=0.662 total time=   0.3s\n",
            "[CV 5/5] END colsample_bytree=0.5, gamma=0.1, learning_rate=0.01;, score=0.649 total time=   0.3s\n",
            "[CV 1/5] END colsample_bytree=0.5, gamma=0.1, learning_rate=0.1;, score=0.842 total time=   0.3s\n",
            "[CV 2/5] END colsample_bytree=0.5, gamma=0.1, learning_rate=0.1;, score=0.845 total time=   0.3s\n",
            "[CV 3/5] END colsample_bytree=0.5, gamma=0.1, learning_rate=0.1;, score=0.862 total time=   0.3s\n",
            "[CV 4/5] END colsample_bytree=0.5, gamma=0.1, learning_rate=0.1;, score=0.874 total time=   0.3s\n",
            "[CV 5/5] END colsample_bytree=0.5, gamma=0.1, learning_rate=0.1;, score=0.834 total time=   0.3s\n",
            "[CV 1/5] END colsample_bytree=0.5, gamma=0.1, learning_rate=1;, score=0.787 total time=   0.3s\n",
            "[CV 2/5] END colsample_bytree=0.5, gamma=0.1, learning_rate=1;, score=0.798 total time=   0.3s\n",
            "[CV 3/5] END colsample_bytree=0.5, gamma=0.1, learning_rate=1;, score=0.818 total time=   0.3s\n",
            "[CV 4/5] END colsample_bytree=0.5, gamma=0.1, learning_rate=1;, score=0.825 total time=   0.3s\n",
            "[CV 5/5] END colsample_bytree=0.5, gamma=0.1, learning_rate=1;, score=0.780 total time=   0.3s\n",
            "[CV 1/5] END colsample_bytree=0.5, gamma=0.5, learning_rate=0.01;, score=0.637 total time=   0.3s\n",
            "[CV 2/5] END colsample_bytree=0.5, gamma=0.5, learning_rate=0.01;, score=0.656 total time=   0.3s\n",
            "[CV 3/5] END colsample_bytree=0.5, gamma=0.5, learning_rate=0.01;, score=0.661 total time=   0.3s\n",
            "[CV 4/5] END colsample_bytree=0.5, gamma=0.5, learning_rate=0.01;, score=0.662 total time=   0.3s\n",
            "[CV 5/5] END colsample_bytree=0.5, gamma=0.5, learning_rate=0.01;, score=0.649 total time=   0.3s\n",
            "[CV 1/5] END colsample_bytree=0.5, gamma=0.5, learning_rate=0.1;, score=0.842 total time=   2.2s\n",
            "[CV 2/5] END colsample_bytree=0.5, gamma=0.5, learning_rate=0.1;, score=0.845 total time=   0.3s\n",
            "[CV 3/5] END colsample_bytree=0.5, gamma=0.5, learning_rate=0.1;, score=0.862 total time=   0.3s\n",
            "[CV 4/5] END colsample_bytree=0.5, gamma=0.5, learning_rate=0.1;, score=0.874 total time=   0.3s\n",
            "[CV 5/5] END colsample_bytree=0.5, gamma=0.5, learning_rate=0.1;, score=0.834 total time=   0.3s\n",
            "[CV 1/5] END colsample_bytree=0.5, gamma=0.5, learning_rate=1;, score=0.787 total time=   0.9s\n",
            "[CV 2/5] END colsample_bytree=0.5, gamma=0.5, learning_rate=1;, score=0.798 total time=   0.4s\n",
            "[CV 3/5] END colsample_bytree=0.5, gamma=0.5, learning_rate=1;, score=0.818 total time=   0.8s\n",
            "[CV 4/5] END colsample_bytree=0.5, gamma=0.5, learning_rate=1;, score=0.825 total time=   0.3s\n",
            "[CV 5/5] END colsample_bytree=0.5, gamma=0.5, learning_rate=1;, score=0.780 total time=   0.3s\n",
            "[CV 1/5] END colsample_bytree=0.5, gamma=1, learning_rate=0.01;, score=0.637 total time=   0.3s\n",
            "[CV 2/5] END colsample_bytree=0.5, gamma=1, learning_rate=0.01;, score=0.656 total time=   0.3s\n",
            "[CV 3/5] END colsample_bytree=0.5, gamma=1, learning_rate=0.01;, score=0.661 total time=   0.3s\n",
            "[CV 4/5] END colsample_bytree=0.5, gamma=1, learning_rate=0.01;, score=0.662 total time=   0.3s\n",
            "[CV 5/5] END colsample_bytree=0.5, gamma=1, learning_rate=0.01;, score=0.649 total time=   0.3s\n",
            "[CV 1/5] END colsample_bytree=0.5, gamma=1, learning_rate=0.1;, score=0.842 total time=   0.3s\n",
            "[CV 2/5] END colsample_bytree=0.5, gamma=1, learning_rate=0.1;, score=0.845 total time=   0.3s\n",
            "[CV 3/5] END colsample_bytree=0.5, gamma=1, learning_rate=0.1;, score=0.862 total time=   0.3s\n",
            "[CV 4/5] END colsample_bytree=0.5, gamma=1, learning_rate=0.1;, score=0.874 total time=   0.3s\n",
            "[CV 5/5] END colsample_bytree=0.5, gamma=1, learning_rate=0.1;, score=0.834 total time=   0.3s\n",
            "[CV 1/5] END colsample_bytree=0.5, gamma=1, learning_rate=1;, score=0.787 total time=   0.3s\n",
            "[CV 2/5] END colsample_bytree=0.5, gamma=1, learning_rate=1;, score=0.798 total time=   0.3s\n",
            "[CV 3/5] END colsample_bytree=0.5, gamma=1, learning_rate=1;, score=0.818 total time=   0.3s\n",
            "[CV 4/5] END colsample_bytree=0.5, gamma=1, learning_rate=1;, score=0.825 total time=   0.3s\n",
            "[CV 5/5] END colsample_bytree=0.5, gamma=1, learning_rate=1;, score=0.780 total time=   0.3s\n",
            "[CV 1/5] END colsample_bytree=0.7, gamma=0, learning_rate=0.01;, score=0.687 total time=   0.3s\n",
            "[CV 2/5] END colsample_bytree=0.7, gamma=0, learning_rate=0.01;, score=0.706 total time=   0.3s\n",
            "[CV 3/5] END colsample_bytree=0.7, gamma=0, learning_rate=0.01;, score=0.706 total time=   0.4s\n",
            "[CV 4/5] END colsample_bytree=0.7, gamma=0, learning_rate=0.01;, score=0.711 total time=   0.3s\n",
            "[CV 5/5] END colsample_bytree=0.7, gamma=0, learning_rate=0.01;, score=0.695 total time=   0.3s\n",
            "[CV 1/5] END colsample_bytree=0.7, gamma=0, learning_rate=0.1;, score=0.842 total time=   2.3s\n",
            "[CV 2/5] END colsample_bytree=0.7, gamma=0, learning_rate=0.1;, score=0.846 total time=   0.4s\n",
            "[CV 3/5] END colsample_bytree=0.7, gamma=0, learning_rate=0.1;, score=0.863 total time=   0.3s\n",
            "[CV 4/5] END colsample_bytree=0.7, gamma=0, learning_rate=0.1;, score=0.876 total time=   0.3s\n",
            "[CV 5/5] END colsample_bytree=0.7, gamma=0, learning_rate=0.1;, score=0.835 total time=   0.4s\n",
            "[CV 1/5] END colsample_bytree=0.7, gamma=0, learning_rate=1;, score=0.797 total time=   0.3s\n",
            "[CV 2/5] END colsample_bytree=0.7, gamma=0, learning_rate=1;, score=0.787 total time=   0.4s\n",
            "[CV 3/5] END colsample_bytree=0.7, gamma=0, learning_rate=1;, score=0.813 total time=   0.3s\n",
            "[CV 4/5] END colsample_bytree=0.7, gamma=0, learning_rate=1;, score=0.823 total time=   0.3s\n",
            "[CV 5/5] END colsample_bytree=0.7, gamma=0, learning_rate=1;, score=0.781 total time=   0.4s\n",
            "[CV 1/5] END colsample_bytree=0.7, gamma=0.1, learning_rate=0.01;, score=0.687 total time=   0.3s\n",
            "[CV 2/5] END colsample_bytree=0.7, gamma=0.1, learning_rate=0.01;, score=0.706 total time=   0.3s\n",
            "[CV 3/5] END colsample_bytree=0.7, gamma=0.1, learning_rate=0.01;, score=0.706 total time=   0.4s\n",
            "[CV 4/5] END colsample_bytree=0.7, gamma=0.1, learning_rate=0.01;, score=0.711 total time=   0.3s\n",
            "[CV 5/5] END colsample_bytree=0.7, gamma=0.1, learning_rate=0.01;, score=0.695 total time=   0.3s\n",
            "[CV 1/5] END colsample_bytree=0.7, gamma=0.1, learning_rate=0.1;, score=0.842 total time=   0.4s\n",
            "[CV 2/5] END colsample_bytree=0.7, gamma=0.1, learning_rate=0.1;, score=0.846 total time=   0.3s\n",
            "[CV 3/5] END colsample_bytree=0.7, gamma=0.1, learning_rate=0.1;, score=0.863 total time=   0.4s\n",
            "[CV 4/5] END colsample_bytree=0.7, gamma=0.1, learning_rate=0.1;, score=0.876 total time=   0.4s\n",
            "[CV 5/5] END colsample_bytree=0.7, gamma=0.1, learning_rate=0.1;, score=0.835 total time=   0.3s\n",
            "[CV 1/5] END colsample_bytree=0.7, gamma=0.1, learning_rate=1;, score=0.797 total time=   0.3s\n",
            "[CV 2/5] END colsample_bytree=0.7, gamma=0.1, learning_rate=1;, score=0.787 total time=   0.3s\n",
            "[CV 3/5] END colsample_bytree=0.7, gamma=0.1, learning_rate=1;, score=0.813 total time=   0.3s\n",
            "[CV 4/5] END colsample_bytree=0.7, gamma=0.1, learning_rate=1;, score=0.823 total time=   0.3s\n",
            "[CV 5/5] END colsample_bytree=0.7, gamma=0.1, learning_rate=1;, score=0.781 total time=   0.3s\n",
            "[CV 1/5] END colsample_bytree=0.7, gamma=0.5, learning_rate=0.01;, score=0.687 total time=   0.3s\n",
            "[CV 2/5] END colsample_bytree=0.7, gamma=0.5, learning_rate=0.01;, score=0.706 total time=   0.3s\n",
            "[CV 3/5] END colsample_bytree=0.7, gamma=0.5, learning_rate=0.01;, score=0.706 total time=   0.4s\n",
            "[CV 4/5] END colsample_bytree=0.7, gamma=0.5, learning_rate=0.01;, score=0.711 total time=   0.3s\n",
            "[CV 5/5] END colsample_bytree=0.7, gamma=0.5, learning_rate=0.01;, score=0.695 total time=   2.3s\n",
            "[CV 1/5] END colsample_bytree=0.7, gamma=0.5, learning_rate=0.1;, score=0.842 total time=   0.4s\n",
            "[CV 2/5] END colsample_bytree=0.7, gamma=0.5, learning_rate=0.1;, score=0.846 total time=   0.4s\n",
            "[CV 3/5] END colsample_bytree=0.7, gamma=0.5, learning_rate=0.1;, score=0.863 total time=   0.3s\n",
            "[CV 4/5] END colsample_bytree=0.7, gamma=0.5, learning_rate=0.1;, score=0.876 total time=   0.4s\n",
            "[CV 5/5] END colsample_bytree=0.7, gamma=0.5, learning_rate=0.1;, score=0.835 total time=   0.3s\n",
            "[CV 1/5] END colsample_bytree=0.7, gamma=0.5, learning_rate=1;, score=0.797 total time=   0.3s\n",
            "[CV 2/5] END colsample_bytree=0.7, gamma=0.5, learning_rate=1;, score=0.787 total time=   0.3s\n",
            "[CV 3/5] END colsample_bytree=0.7, gamma=0.5, learning_rate=1;, score=0.813 total time=   0.3s\n",
            "[CV 4/5] END colsample_bytree=0.7, gamma=0.5, learning_rate=1;, score=0.823 total time=   0.3s\n",
            "[CV 5/5] END colsample_bytree=0.7, gamma=0.5, learning_rate=1;, score=0.781 total time=   0.4s\n",
            "[CV 1/5] END colsample_bytree=0.7, gamma=1, learning_rate=0.01;, score=0.687 total time=   0.3s\n",
            "[CV 2/5] END colsample_bytree=0.7, gamma=1, learning_rate=0.01;, score=0.706 total time=   0.4s\n",
            "[CV 3/5] END colsample_bytree=0.7, gamma=1, learning_rate=0.01;, score=0.706 total time=   0.4s\n",
            "[CV 4/5] END colsample_bytree=0.7, gamma=1, learning_rate=0.01;, score=0.711 total time=   0.3s\n",
            "[CV 5/5] END colsample_bytree=0.7, gamma=1, learning_rate=0.01;, score=0.695 total time=   0.3s\n",
            "[CV 1/5] END colsample_bytree=0.7, gamma=1, learning_rate=0.1;, score=0.842 total time=   0.4s\n",
            "[CV 2/5] END colsample_bytree=0.7, gamma=1, learning_rate=0.1;, score=0.846 total time=   0.4s\n",
            "[CV 3/5] END colsample_bytree=0.7, gamma=1, learning_rate=0.1;, score=0.863 total time=   0.3s\n",
            "[CV 4/5] END colsample_bytree=0.7, gamma=1, learning_rate=0.1;, score=0.876 total time=   0.4s\n",
            "[CV 5/5] END colsample_bytree=0.7, gamma=1, learning_rate=0.1;, score=0.835 total time=   0.3s\n",
            "[CV 1/5] END colsample_bytree=0.7, gamma=1, learning_rate=1;, score=0.797 total time=   0.3s\n",
            "[CV 2/5] END colsample_bytree=0.7, gamma=1, learning_rate=1;, score=0.787 total time=   0.4s\n",
            "[CV 3/5] END colsample_bytree=0.7, gamma=1, learning_rate=1;, score=0.813 total time=   0.3s\n",
            "[CV 4/5] END colsample_bytree=0.7, gamma=1, learning_rate=1;, score=0.823 total time=   0.3s\n",
            "[CV 5/5] END colsample_bytree=0.7, gamma=1, learning_rate=1;, score=0.781 total time=   0.4s\n",
            "[CV 1/5] END colsample_bytree=1, gamma=0, learning_rate=0.01;, score=0.708 total time=   0.5s\n",
            "[CV 2/5] END colsample_bytree=1, gamma=0, learning_rate=0.01;, score=0.729 total time=   0.5s\n",
            "[CV 3/5] END colsample_bytree=1, gamma=0, learning_rate=0.01;, score=0.727 total time=   2.4s\n",
            "[CV 4/5] END colsample_bytree=1, gamma=0, learning_rate=0.01;, score=0.734 total time=   0.5s\n",
            "[CV 5/5] END colsample_bytree=1, gamma=0, learning_rate=0.01;, score=0.714 total time=   0.5s\n",
            "[CV 1/5] END colsample_bytree=1, gamma=0, learning_rate=0.1;, score=0.841 total time=   0.4s\n",
            "[CV 2/5] END colsample_bytree=1, gamma=0, learning_rate=0.1;, score=0.841 total time=   0.5s\n",
            "[CV 3/5] END colsample_bytree=1, gamma=0, learning_rate=0.1;, score=0.861 total time=   0.4s\n",
            "[CV 4/5] END colsample_bytree=1, gamma=0, learning_rate=0.1;, score=0.872 total time=   0.5s\n",
            "[CV 5/5] END colsample_bytree=1, gamma=0, learning_rate=0.1;, score=0.834 total time=   0.5s\n",
            "[CV 1/5] END colsample_bytree=1, gamma=0, learning_rate=1;, score=0.776 total time=   0.4s\n",
            "[CV 2/5] END colsample_bytree=1, gamma=0, learning_rate=1;, score=0.766 total time=   0.4s\n",
            "[CV 3/5] END colsample_bytree=1, gamma=0, learning_rate=1;, score=0.800 total time=   0.4s\n",
            "[CV 4/5] END colsample_bytree=1, gamma=0, learning_rate=1;, score=0.805 total time=   0.4s\n",
            "[CV 5/5] END colsample_bytree=1, gamma=0, learning_rate=1;, score=0.762 total time=   0.4s\n",
            "[CV 1/5] END colsample_bytree=1, gamma=0.1, learning_rate=0.01;, score=0.708 total time=   0.5s\n",
            "[CV 2/5] END colsample_bytree=1, gamma=0.1, learning_rate=0.01;, score=0.729 total time=   0.5s\n",
            "[CV 3/5] END colsample_bytree=1, gamma=0.1, learning_rate=0.01;, score=0.727 total time=   0.5s\n",
            "[CV 4/5] END colsample_bytree=1, gamma=0.1, learning_rate=0.01;, score=0.734 total time=   0.5s\n",
            "[CV 5/5] END colsample_bytree=1, gamma=0.1, learning_rate=0.01;, score=0.714 total time=   0.5s\n",
            "[CV 1/5] END colsample_bytree=1, gamma=0.1, learning_rate=0.1;, score=0.841 total time=   0.5s\n",
            "[CV 2/5] END colsample_bytree=1, gamma=0.1, learning_rate=0.1;, score=0.841 total time=   0.5s\n",
            "[CV 3/5] END colsample_bytree=1, gamma=0.1, learning_rate=0.1;, score=0.861 total time=   0.5s\n",
            "[CV 4/5] END colsample_bytree=1, gamma=0.1, learning_rate=0.1;, score=0.872 total time=   0.5s\n",
            "[CV 5/5] END colsample_bytree=1, gamma=0.1, learning_rate=0.1;, score=0.834 total time=   2.3s\n",
            "[CV 1/5] END colsample_bytree=1, gamma=0.1, learning_rate=1;, score=0.776 total time=   0.5s\n",
            "[CV 2/5] END colsample_bytree=1, gamma=0.1, learning_rate=1;, score=0.766 total time=   0.4s\n",
            "[CV 3/5] END colsample_bytree=1, gamma=0.1, learning_rate=1;, score=0.800 total time=   0.4s\n",
            "[CV 4/5] END colsample_bytree=1, gamma=0.1, learning_rate=1;, score=0.805 total time=   0.4s\n",
            "[CV 5/5] END colsample_bytree=1, gamma=0.1, learning_rate=1;, score=0.762 total time=   0.4s\n",
            "[CV 1/5] END colsample_bytree=1, gamma=0.5, learning_rate=0.01;, score=0.708 total time=   0.5s\n",
            "[CV 2/5] END colsample_bytree=1, gamma=0.5, learning_rate=0.01;, score=0.729 total time=   0.5s\n",
            "[CV 3/5] END colsample_bytree=1, gamma=0.5, learning_rate=0.01;, score=0.727 total time=   0.5s\n",
            "[CV 4/5] END colsample_bytree=1, gamma=0.5, learning_rate=0.01;, score=0.734 total time=   0.5s\n",
            "[CV 5/5] END colsample_bytree=1, gamma=0.5, learning_rate=0.01;, score=0.714 total time=   0.5s\n",
            "[CV 1/5] END colsample_bytree=1, gamma=0.5, learning_rate=0.1;, score=0.841 total time=   0.4s\n",
            "[CV 2/5] END colsample_bytree=1, gamma=0.5, learning_rate=0.1;, score=0.841 total time=   0.5s\n",
            "[CV 3/5] END colsample_bytree=1, gamma=0.5, learning_rate=0.1;, score=0.861 total time=   0.4s\n",
            "[CV 4/5] END colsample_bytree=1, gamma=0.5, learning_rate=0.1;, score=0.872 total time=   0.5s\n",
            "[CV 5/5] END colsample_bytree=1, gamma=0.5, learning_rate=0.1;, score=0.834 total time=   0.5s\n",
            "[CV 1/5] END colsample_bytree=1, gamma=0.5, learning_rate=1;, score=0.776 total time=   0.4s\n",
            "[CV 2/5] END colsample_bytree=1, gamma=0.5, learning_rate=1;, score=0.766 total time=   0.4s\n",
            "[CV 3/5] END colsample_bytree=1, gamma=0.5, learning_rate=1;, score=0.800 total time=   0.4s\n",
            "[CV 4/5] END colsample_bytree=1, gamma=0.5, learning_rate=1;, score=0.805 total time=   0.4s\n",
            "[CV 5/5] END colsample_bytree=1, gamma=0.5, learning_rate=1;, score=0.762 total time=   0.4s\n",
            "[CV 1/5] END colsample_bytree=1, gamma=1, learning_rate=0.01;, score=0.708 total time=   0.5s\n",
            "[CV 2/5] END colsample_bytree=1, gamma=1, learning_rate=0.01;, score=0.729 total time=   0.5s\n",
            "[CV 3/5] END colsample_bytree=1, gamma=1, learning_rate=0.01;, score=0.727 total time=   2.3s\n",
            "[CV 4/5] END colsample_bytree=1, gamma=1, learning_rate=0.01;, score=0.734 total time=   0.5s\n",
            "[CV 5/5] END colsample_bytree=1, gamma=1, learning_rate=0.01;, score=0.714 total time=   0.5s\n",
            "[CV 1/5] END colsample_bytree=1, gamma=1, learning_rate=0.1;, score=0.841 total time=   0.5s\n",
            "[CV 2/5] END colsample_bytree=1, gamma=1, learning_rate=0.1;, score=0.841 total time=   0.5s\n",
            "[CV 3/5] END colsample_bytree=1, gamma=1, learning_rate=0.1;, score=0.861 total time=   0.5s\n",
            "[CV 4/5] END colsample_bytree=1, gamma=1, learning_rate=0.1;, score=0.872 total time=   0.4s\n",
            "[CV 5/5] END colsample_bytree=1, gamma=1, learning_rate=0.1;, score=0.834 total time=   0.5s\n",
            "[CV 1/5] END colsample_bytree=1, gamma=1, learning_rate=1;, score=0.776 total time=   0.4s\n",
            "[CV 2/5] END colsample_bytree=1, gamma=1, learning_rate=1;, score=0.766 total time=   0.5s\n",
            "[CV 3/5] END colsample_bytree=1, gamma=1, learning_rate=1;, score=0.800 total time=   0.4s\n",
            "[CV 4/5] END colsample_bytree=1, gamma=1, learning_rate=1;, score=0.805 total time=   0.5s\n",
            "[CV 5/5] END colsample_bytree=1, gamma=1, learning_rate=1;, score=0.762 total time=   0.4s\n",
            "Mejores parámetros:  {'colsample_bytree': 0.7, 'gamma': 0, 'learning_rate': 0.1}\n",
            "Mejor puntaje:  0.8524149166020566\n"
          ]
        }
      ]
    },
    {
      "cell_type": "code",
      "source": [
        "# Entrenamiento (fit) y desempeño del modelo XGBClassifier\n",
        "from sklearn.metrics import explained_variance_score\n",
        "xgb_reg = XGBRegressor(colsample_bytree = 0.7, gamma= 0, learning_rate= 0.1)\n",
        "xgb_reg.fit(X_train, y_train)\n",
        "y_pred = xgb_reg.predict(X_test)\n",
        "print(\"Explained Variance Score: \",(explained_variance_score(y_pred, y_test)))\n",
        "\n",
        "rmserf_xg2 = np.sqrt(mean_squared_error(y_test, y_pred))\n",
        "maerf_xg2 = mean_absolute_error(y_test, y_pred)\n",
        "print(\"RMSE: \", rmserf_xg2)\n",
        "print(\"MAE: \", maerf_xg2)"
      ],
      "metadata": {
        "colab": {
          "base_uri": "https://localhost:8080/"
        },
        "id": "96MYBF0ETo82",
        "outputId": "175079d3-fa1d-4198-c1d4-e515069f1f15"
      },
      "execution_count": null,
      "outputs": [
        {
          "output_type": "stream",
          "name": "stdout",
          "text": [
            "Explained Variance Score:  0.8142892507794715\n",
            "RMSE:  1548.817634900055\n",
            "MAE:  1136.4953260884274\n"
          ]
        }
      ]
    },
    {
      "cell_type": "markdown",
      "source": [
        "*   La variación de colsample_bytree parece tener un impacto más grande en el puntaje que la variación de gamma y learning_rate.\n",
        "*   Para valores bajos de learning_rate y colsample_bytree (0.01 y 0.3, respectivamente), el puntaje del modelo es bajo, pero el tiempo de ejecución es bajo.\n",
        "*   A medida que aumenta el valor de learning_rate, el puntaje del modelo mejora significativamente, pero el tiempo de ejecución sigue siendo bajo.\n",
        "*   Para valores más altos de colsample_bytree (0.5 y 0.7), el puntaje del modelo mejora en general, pero el tiempo de ejecución aumenta.\n",
        "*   En general, el puntaje del modelo es más alto para valores más altos de learning_rate, colsample_bytree, mientras que el tiempo de ejecución es más alto para valores más bajos de learning_rate y colsample_bytree.\n",
        "*   Los mejores parametros obtenidos para el modelo corresponden a {'colsample_bytree': 0.7, 'gamma': 0, 'learning_rate': 0.1}"
      ],
      "metadata": {
        "id": "F4w7HyEvTrQq"
      }
    },
    {
      "cell_type": "markdown",
      "metadata": {
        "id": "xupbOsbs2ash"
      },
      "source": [
        "### Punto 8 - Comparación y análisis de resultados\n",
        "En la celda 8 comparen los resultados obtenidos de los diferentes modelos (random forest y XGBoost) y comenten las ventajas del mejor modelo y las desventajas del modelo con el menor desempeño."
      ]
    },
    {
      "cell_type": "markdown",
      "source": [
        "Teniendo en cunta los resultados obtenidos: \n",
        "\n",
        "XGBoost regressor:\n",
        "\n",
        "*   Explained Variance Score:  0.8142892507794715\n",
        "*   Root Mean Squared Error:  1548.817634900055\n",
        "*   Mean Absolute Error:  1136.4953260884274\n",
        "\n",
        "Random Forest: \n",
        "\n",
        "* Explained Variance Score:  0.8397864530648005\n",
        "* Root Mean Squared Error:  1565.8147223729486\n",
        "* Mean Absolute Error:  1150.676982606294\n",
        "\n",
        "Ambos modelos, el XGBoost Regressor y el random forest, parecen tener un buen desempeño, ya que el Explained Variance Score (EVS) es mayor a 0.8, lo que significa que la mayoría de la varianza en los datos de prueba está siendo explicada por los modelos. Además, ambos modelos tienen un Root Mean Squared Error (RMSE) y Mean Absolute Error (MAE) relativamente bajos, lo que indica que los modelos están haciendo predicciones precisas.\n",
        "\n",
        "Sin embargo, el modelo de XGBoost Regressor parece tener un rendimiento ligeramente mejor que el modelo random forest, ya que tiene un RMSE y un MAE ligeramente más bajos. Sin embargo, la diferencia entre los resultados de los dos modelos no es muy grande, por lo que se podría considerar que ambos modelos tienen un rendimiento similar.\n",
        "\n",
        "\n",
        "**Ventajas mejor modelo XGBoost Regressor**\n",
        "* XGBoost utiliza técnicas avanzadas de optimización y regularización para reducir la varianza, haciendo que la predicción sea más estable. Otra mejora algorítmica es que aprende el mejor valor para los missing values según la pérdida de entrenamiento. \n",
        "\n",
        "**Desventajas peor modelo Random Forest**\n",
        "* Es propenso a sobreajuste: Un modelo de Random Forest puede ser propenso al sobreajuste sobretodo en muestras pequeñas con variables altamente correlacionadas. Así mismo, no es tan bueno como XGBoost en el manejo de missing values."
      ],
      "metadata": {
        "id": "4nh6KA1GWhbk"
      }
    }
  ],
  "metadata": {
    "kernelspec": {
      "display_name": "Python 3 (ipykernel)",
      "language": "python",
      "name": "python3"
    },
    "language_info": {
      "codemirror_mode": {
        "name": "ipython",
        "version": 3
      },
      "file_extension": ".py",
      "mimetype": "text/x-python",
      "name": "python",
      "nbconvert_exporter": "python",
      "pygments_lexer": "ipython3",
      "version": "3.9.12"
    },
    "colab": {
      "provenance": [],
      "include_colab_link": true
    }
  },
  "nbformat": 4,
  "nbformat_minor": 0
}